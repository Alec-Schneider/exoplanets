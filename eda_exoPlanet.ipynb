{
 "cells": [
  {
   "cell_type": "code",
   "execution_count": 15,
   "metadata": {},
   "outputs": [
    {
     "name": "stdout",
     "output_type": "stream",
     "text": [
      "Collecting torchsummary\n",
      "  Using cached torchsummary-1.5.1-py3-none-any.whl (2.8 kB)\n",
      "Installing collected packages: torchsummary\n",
      "Successfully installed torchsummary-1.5.1\n",
      "\u001b[33mWARNING: Running pip as root will break packages and permissions. You should install packages reliably by using venv: https://pip.pypa.io/warnings/venv\u001b[0m\n"
     ]
    }
   ],
   "source": [
    "!pip install torchsummary"
   ]
  },
  {
   "cell_type": "code",
   "execution_count": 16,
   "metadata": {},
   "outputs": [
    {
     "name": "stdout",
     "output_type": "stream",
     "text": [
      "Collecting git+https://github.com/Alec-Schneider/imbalanced-dataset-sampler\n",
      "  Cloning https://github.com/Alec-Schneider/imbalanced-dataset-sampler to /tmp/pip-req-build-s28t_nj9\n",
      "  Running command git clone -q https://github.com/Alec-Schneider/imbalanced-dataset-sampler /tmp/pip-req-build-s28t_nj9\n",
      "Requirement already satisfied: torch>=1.3 in /opt/conda/lib/python3.6/site-packages (from torchsampler==0.1.1) (1.6.0)\n",
      "Requirement already satisfied: torchvision>=0.5 in /opt/conda/lib/python3.6/site-packages (from torchsampler==0.1.1) (0.7.0a0+78ed10c)\n",
      "Requirement already satisfied: pandas in /opt/conda/lib/python3.6/site-packages (from torchsampler==0.1.1) (1.1.5)\n",
      "Requirement already satisfied: numpy in /opt/conda/lib/python3.6/site-packages (from torch>=1.3->torchsampler==0.1.1) (1.19.1)\n",
      "Requirement already satisfied: future in /opt/conda/lib/python3.6/site-packages (from torch>=1.3->torchsampler==0.1.1) (0.18.2)\n",
      "Requirement already satisfied: pillow>=4.1.1 in /opt/conda/lib/python3.6/site-packages (from torchvision>=0.5->torchsampler==0.1.1) (8.2.0)\n",
      "Requirement already satisfied: python-dateutil>=2.7.3 in /opt/conda/lib/python3.6/site-packages (from pandas->torchsampler==0.1.1) (2.8.2)\n",
      "Requirement already satisfied: pytz>=2017.2 in /opt/conda/lib/python3.6/site-packages (from pandas->torchsampler==0.1.1) (2021.1)\n",
      "Requirement already satisfied: six>=1.5 in /opt/conda/lib/python3.6/site-packages (from python-dateutil>=2.7.3->pandas->torchsampler==0.1.1) (1.16.0)\n",
      "Building wheels for collected packages: torchsampler\n",
      "  Building wheel for torchsampler (setup.py) ... \u001b[?25ldone\n",
      "\u001b[?25h  Created wheel for torchsampler: filename=torchsampler-0.1.1-py3-none-any.whl size=3866 sha256=0209864a04d9b78bad031ab30ddfe8a00462e76c8fd60a623bae661fb6214840\n",
      "  Stored in directory: /tmp/pip-ephem-wheel-cache-4d263w2x/wheels/ab/ad/ad/f195db826b91b699a5acd8ac61aff84148073e3fe1ad03706e\n",
      "Successfully built torchsampler\n",
      "Installing collected packages: torchsampler\n",
      "Successfully installed torchsampler-0.1.1\n",
      "\u001b[33mWARNING: Running pip as root will break packages and permissions. You should install packages reliably by using venv: https://pip.pypa.io/warnings/venv\u001b[0m\n"
     ]
    }
   ],
   "source": [
    "!python -m pip install git+https://github.com/Alec-Schneider/imbalanced-dataset-sampler"
   ]
  },
  {
   "cell_type": "code",
   "execution_count": 17,
   "metadata": {},
   "outputs": [
    {
     "name": "stdout",
     "output_type": "stream",
     "text": [
      "Collecting seaborn\n",
      "  Using cached seaborn-0.11.2-py3-none-any.whl (292 kB)\n",
      "Requirement already satisfied: scipy>=1.0 in /opt/conda/lib/python3.6/site-packages (from seaborn) (1.5.4)\n",
      "Requirement already satisfied: numpy>=1.15 in /opt/conda/lib/python3.6/site-packages (from seaborn) (1.19.1)\n",
      "Requirement already satisfied: pandas>=0.23 in /opt/conda/lib/python3.6/site-packages (from seaborn) (1.1.5)\n",
      "Requirement already satisfied: matplotlib>=2.2 in /opt/conda/lib/python3.6/site-packages (from seaborn) (3.3.4)\n",
      "Requirement already satisfied: python-dateutil>=2.1 in /opt/conda/lib/python3.6/site-packages (from matplotlib>=2.2->seaborn) (2.8.2)\n",
      "Requirement already satisfied: cycler>=0.10 in /opt/conda/lib/python3.6/site-packages (from matplotlib>=2.2->seaborn) (0.10.0)\n",
      "Requirement already satisfied: kiwisolver>=1.0.1 in /opt/conda/lib/python3.6/site-packages (from matplotlib>=2.2->seaborn) (1.3.1)\n",
      "Requirement already satisfied: pillow>=6.2.0 in /opt/conda/lib/python3.6/site-packages (from matplotlib>=2.2->seaborn) (8.2.0)\n",
      "Requirement already satisfied: pyparsing!=2.0.4,!=2.1.2,!=2.1.6,>=2.0.3 in /opt/conda/lib/python3.6/site-packages (from matplotlib>=2.2->seaborn) (2.4.7)\n",
      "Requirement already satisfied: six in /opt/conda/lib/python3.6/site-packages (from cycler>=0.10->matplotlib>=2.2->seaborn) (1.16.0)\n",
      "Requirement already satisfied: pytz>=2017.2 in /opt/conda/lib/python3.6/site-packages (from pandas>=0.23->seaborn) (2021.1)\n",
      "Installing collected packages: seaborn\n",
      "Successfully installed seaborn-0.11.2\n",
      "\u001b[33mWARNING: Running pip as root will break packages and permissions. You should install packages reliably by using venv: https://pip.pypa.io/warnings/venv\u001b[0m\n"
     ]
    }
   ],
   "source": [
    "!pip install seaborn"
   ]
  },
  {
   "cell_type": "code",
   "execution_count": 18,
   "metadata": {},
   "outputs": [
    {
     "name": "stdout",
     "output_type": "stream",
     "text": [
      "Collecting plotly\n",
      "  Using cached plotly-5.6.0-py2.py3-none-any.whl (27.7 MB)\n",
      "Requirement already satisfied: six in /opt/conda/lib/python3.6/site-packages (from plotly) (1.16.0)\n",
      "Collecting tenacity>=6.2.0\n",
      "  Using cached tenacity-8.0.1-py3-none-any.whl (24 kB)\n",
      "Installing collected packages: tenacity, plotly\n",
      "Successfully installed plotly-5.6.0 tenacity-8.0.1\n",
      "\u001b[33mWARNING: Running pip as root will break packages and permissions. You should install packages reliably by using venv: https://pip.pypa.io/warnings/venv\u001b[0m\n"
     ]
    }
   ],
   "source": [
    "!pip install plotly"
   ]
  },
  {
   "cell_type": "code",
   "execution_count": 19,
   "metadata": {},
   "outputs": [],
   "source": [
    "import logging \n",
    "import os \n",
    "import sys \n",
    "import numpy as np \n",
    "import pandas as pd \n",
    "import pickle\n",
    "from typing import Callable\n",
    "from types import SimpleNamespace\n",
    "\n",
    "import matplotlib.pyplot as plt\n",
    "from mpl_toolkits import mplot3d\n",
    "import seaborn as sns\n",
    "import plotly.express as px\n",
    "\n",
    "from sklearn.decomposition import PCA\n",
    "from sklearn.preprocessing import StandardScaler\n",
    "from sklearn.model_selection import train_test_split\n",
    "from scipy.ndimage import uniform_filter1d\n",
    "\n",
    "import torch\n",
    "import torch.nn as nn\n",
    "import torch.nn.functional as F\n",
    "import torch.optim as optim\n",
    "from torch.utils.data import DataLoader, TensorDataset, WeightedRandomSampler\n",
    "import torch.utils.data\n",
    "import torchvision\n",
    "from torchsummary import summary\n",
    "\n",
    "from torchsampler import ImbalancedDatasetSampler\n",
    "\n",
    "\n",
    "logger = logging.getLogger(__name__) \n",
    "logger.setLevel(logging.DEBUG) \n",
    "logger.addHandler(logging.StreamHandler(sys.stdout)) "
   ]
  },
  {
   "cell_type": "code",
   "execution_count": 7,
   "metadata": {},
   "outputs": [],
   "source": [
    "orig_train = pd.read_csv(\"data/exoTrain.csv\")\n",
    "orig_train['LABEL'] = orig_train['LABEL'] - 1\n",
    "\n",
    "orig_train.sample(frac=1).to_csv(\"data/Train.csv\", index=False)"
   ]
  },
  {
   "cell_type": "code",
   "execution_count": 8,
   "metadata": {},
   "outputs": [],
   "source": [
    "orig_test = pd.read_csv(\"data/exoTest.csv\")\n",
    "orig_test['LABEL'] = orig_test['LABEL'] - 1\n",
    "orig_test.sample(frac=1).to_csv(\"data/Test.csv\", index=False)"
   ]
  },
  {
   "cell_type": "code",
   "execution_count": 9,
   "metadata": {},
   "outputs": [
    {
     "data": {
      "text/plain": [
       "LABEL          int64\n",
       "FLUX.1       float64\n",
       "FLUX.2       float64\n",
       "FLUX.3       float64\n",
       "FLUX.4       float64\n",
       "              ...   \n",
       "FLUX.3193    float64\n",
       "FLUX.3194    float64\n",
       "FLUX.3195    float64\n",
       "FLUX.3196    float64\n",
       "FLUX.3197    float64\n",
       "Length: 3198, dtype: object"
      ]
     },
     "execution_count": 9,
     "metadata": {},
     "output_type": "execute_result"
    }
   ],
   "source": [
    "train = pd.read_csv(\"data/Train.csv\")\n",
    "test = pd.read_csv(\"data/Test.csv\")\n",
    "train.dtypes"
   ]
  },
  {
   "cell_type": "code",
   "execution_count": 10,
   "metadata": {},
   "outputs": [
    {
     "data": {
      "text/html": [
       "<div>\n",
       "<style scoped>\n",
       "    .dataframe tbody tr th:only-of-type {\n",
       "        vertical-align: middle;\n",
       "    }\n",
       "\n",
       "    .dataframe tbody tr th {\n",
       "        vertical-align: top;\n",
       "    }\n",
       "\n",
       "    .dataframe thead th {\n",
       "        text-align: right;\n",
       "    }\n",
       "</style>\n",
       "<table border=\"1\" class=\"dataframe\">\n",
       "  <thead>\n",
       "    <tr style=\"text-align: right;\">\n",
       "      <th></th>\n",
       "      <th>LABEL</th>\n",
       "      <th>FLUX.1</th>\n",
       "      <th>FLUX.2</th>\n",
       "      <th>FLUX.3</th>\n",
       "      <th>FLUX.4</th>\n",
       "      <th>FLUX.5</th>\n",
       "      <th>FLUX.6</th>\n",
       "      <th>FLUX.7</th>\n",
       "      <th>FLUX.8</th>\n",
       "      <th>FLUX.9</th>\n",
       "      <th>...</th>\n",
       "      <th>FLUX.3188</th>\n",
       "      <th>FLUX.3189</th>\n",
       "      <th>FLUX.3190</th>\n",
       "      <th>FLUX.3191</th>\n",
       "      <th>FLUX.3192</th>\n",
       "      <th>FLUX.3193</th>\n",
       "      <th>FLUX.3194</th>\n",
       "      <th>FLUX.3195</th>\n",
       "      <th>FLUX.3196</th>\n",
       "      <th>FLUX.3197</th>\n",
       "    </tr>\n",
       "  </thead>\n",
       "  <tbody>\n",
       "    <tr>\n",
       "      <th>0</th>\n",
       "      <td>0</td>\n",
       "      <td>1.13</td>\n",
       "      <td>0.32</td>\n",
       "      <td>3.64</td>\n",
       "      <td>-2.55</td>\n",
       "      <td>-7.26</td>\n",
       "      <td>-3.95</td>\n",
       "      <td>-1.56</td>\n",
       "      <td>-0.46</td>\n",
       "      <td>0.04</td>\n",
       "      <td>...</td>\n",
       "      <td>2.75</td>\n",
       "      <td>2.53</td>\n",
       "      <td>-0.45</td>\n",
       "      <td>-7.41</td>\n",
       "      <td>-2.40</td>\n",
       "      <td>-5.30</td>\n",
       "      <td>-4.25</td>\n",
       "      <td>-0.02</td>\n",
       "      <td>-2.22</td>\n",
       "      <td>-0.60</td>\n",
       "    </tr>\n",
       "    <tr>\n",
       "      <th>1</th>\n",
       "      <td>0</td>\n",
       "      <td>-24.34</td>\n",
       "      <td>-19.58</td>\n",
       "      <td>-12.05</td>\n",
       "      <td>-14.69</td>\n",
       "      <td>-10.31</td>\n",
       "      <td>-7.60</td>\n",
       "      <td>-8.63</td>\n",
       "      <td>-11.85</td>\n",
       "      <td>11.78</td>\n",
       "      <td>...</td>\n",
       "      <td>5.01</td>\n",
       "      <td>-6.73</td>\n",
       "      <td>4.52</td>\n",
       "      <td>1.03</td>\n",
       "      <td>-1.72</td>\n",
       "      <td>-1.32</td>\n",
       "      <td>-4.23</td>\n",
       "      <td>880.28</td>\n",
       "      <td>0.25</td>\n",
       "      <td>-8.84</td>\n",
       "    </tr>\n",
       "    <tr>\n",
       "      <th>2</th>\n",
       "      <td>0</td>\n",
       "      <td>6.00</td>\n",
       "      <td>7.70</td>\n",
       "      <td>2.87</td>\n",
       "      <td>4.32</td>\n",
       "      <td>5.63</td>\n",
       "      <td>4.79</td>\n",
       "      <td>0.10</td>\n",
       "      <td>-4.40</td>\n",
       "      <td>-1.04</td>\n",
       "      <td>...</td>\n",
       "      <td>-5.91</td>\n",
       "      <td>-0.97</td>\n",
       "      <td>-0.62</td>\n",
       "      <td>-2.48</td>\n",
       "      <td>0.50</td>\n",
       "      <td>4.48</td>\n",
       "      <td>-1.00</td>\n",
       "      <td>-5.57</td>\n",
       "      <td>-3.41</td>\n",
       "      <td>14.00</td>\n",
       "    </tr>\n",
       "    <tr>\n",
       "      <th>3</th>\n",
       "      <td>0</td>\n",
       "      <td>-47.72</td>\n",
       "      <td>-54.29</td>\n",
       "      <td>-53.11</td>\n",
       "      <td>-53.47</td>\n",
       "      <td>-55.80</td>\n",
       "      <td>-55.01</td>\n",
       "      <td>-53.97</td>\n",
       "      <td>-53.72</td>\n",
       "      <td>-40.51</td>\n",
       "      <td>...</td>\n",
       "      <td>40.19</td>\n",
       "      <td>38.52</td>\n",
       "      <td>23.02</td>\n",
       "      <td>26.29</td>\n",
       "      <td>29.07</td>\n",
       "      <td>35.92</td>\n",
       "      <td>-70.71</td>\n",
       "      <td>-19.82</td>\n",
       "      <td>-5.67</td>\n",
       "      <td>4.48</td>\n",
       "    </tr>\n",
       "    <tr>\n",
       "      <th>4</th>\n",
       "      <td>0</td>\n",
       "      <td>9.01</td>\n",
       "      <td>-4.29</td>\n",
       "      <td>4.34</td>\n",
       "      <td>-1.24</td>\n",
       "      <td>0.36</td>\n",
       "      <td>2.25</td>\n",
       "      <td>0.20</td>\n",
       "      <td>6.75</td>\n",
       "      <td>-6.04</td>\n",
       "      <td>...</td>\n",
       "      <td>0.34</td>\n",
       "      <td>-0.37</td>\n",
       "      <td>-0.92</td>\n",
       "      <td>12.53</td>\n",
       "      <td>4.18</td>\n",
       "      <td>5.10</td>\n",
       "      <td>-2.42</td>\n",
       "      <td>-0.30</td>\n",
       "      <td>-1.94</td>\n",
       "      <td>-0.47</td>\n",
       "    </tr>\n",
       "  </tbody>\n",
       "</table>\n",
       "<p>5 rows × 3198 columns</p>\n",
       "</div>"
      ],
      "text/plain": [
       "   LABEL  FLUX.1  FLUX.2  FLUX.3  FLUX.4  FLUX.5  FLUX.6  FLUX.7  FLUX.8  \\\n",
       "0      0    1.13    0.32    3.64   -2.55   -7.26   -3.95   -1.56   -0.46   \n",
       "1      0  -24.34  -19.58  -12.05  -14.69  -10.31   -7.60   -8.63  -11.85   \n",
       "2      0    6.00    7.70    2.87    4.32    5.63    4.79    0.10   -4.40   \n",
       "3      0  -47.72  -54.29  -53.11  -53.47  -55.80  -55.01  -53.97  -53.72   \n",
       "4      0    9.01   -4.29    4.34   -1.24    0.36    2.25    0.20    6.75   \n",
       "\n",
       "   FLUX.9  ...  FLUX.3188  FLUX.3189  FLUX.3190  FLUX.3191  FLUX.3192  \\\n",
       "0    0.04  ...       2.75       2.53      -0.45      -7.41      -2.40   \n",
       "1   11.78  ...       5.01      -6.73       4.52       1.03      -1.72   \n",
       "2   -1.04  ...      -5.91      -0.97      -0.62      -2.48       0.50   \n",
       "3  -40.51  ...      40.19      38.52      23.02      26.29      29.07   \n",
       "4   -6.04  ...       0.34      -0.37      -0.92      12.53       4.18   \n",
       "\n",
       "   FLUX.3193  FLUX.3194  FLUX.3195  FLUX.3196  FLUX.3197  \n",
       "0      -5.30      -4.25      -0.02      -2.22      -0.60  \n",
       "1      -1.32      -4.23     880.28       0.25      -8.84  \n",
       "2       4.48      -1.00      -5.57      -3.41      14.00  \n",
       "3      35.92     -70.71     -19.82      -5.67       4.48  \n",
       "4       5.10      -2.42      -0.30      -1.94      -0.47  \n",
       "\n",
       "[5 rows x 3198 columns]"
      ]
     },
     "execution_count": 10,
     "metadata": {},
     "output_type": "execute_result"
    }
   ],
   "source": [
    "train.head()"
   ]
  },
  {
   "cell_type": "code",
   "execution_count": 11,
   "metadata": {},
   "outputs": [
    {
     "data": {
      "text/html": [
       "<div>\n",
       "<style scoped>\n",
       "    .dataframe tbody tr th:only-of-type {\n",
       "        vertical-align: middle;\n",
       "    }\n",
       "\n",
       "    .dataframe tbody tr th {\n",
       "        vertical-align: top;\n",
       "    }\n",
       "\n",
       "    .dataframe thead th {\n",
       "        text-align: right;\n",
       "    }\n",
       "</style>\n",
       "<table border=\"1\" class=\"dataframe\">\n",
       "  <thead>\n",
       "    <tr style=\"text-align: right;\">\n",
       "      <th></th>\n",
       "      <th>LABEL</th>\n",
       "      <th>FLUX.1</th>\n",
       "      <th>FLUX.2</th>\n",
       "      <th>FLUX.3</th>\n",
       "      <th>FLUX.4</th>\n",
       "      <th>FLUX.5</th>\n",
       "      <th>FLUX.6</th>\n",
       "      <th>FLUX.7</th>\n",
       "      <th>FLUX.8</th>\n",
       "      <th>FLUX.9</th>\n",
       "      <th>...</th>\n",
       "      <th>FLUX.3188</th>\n",
       "      <th>FLUX.3189</th>\n",
       "      <th>FLUX.3190</th>\n",
       "      <th>FLUX.3191</th>\n",
       "      <th>FLUX.3192</th>\n",
       "      <th>FLUX.3193</th>\n",
       "      <th>FLUX.3194</th>\n",
       "      <th>FLUX.3195</th>\n",
       "      <th>FLUX.3196</th>\n",
       "      <th>FLUX.3197</th>\n",
       "    </tr>\n",
       "  </thead>\n",
       "  <tbody>\n",
       "    <tr>\n",
       "      <th>count</th>\n",
       "      <td>5087.000000</td>\n",
       "      <td>5.087000e+03</td>\n",
       "      <td>5.087000e+03</td>\n",
       "      <td>5.087000e+03</td>\n",
       "      <td>5.087000e+03</td>\n",
       "      <td>5.087000e+03</td>\n",
       "      <td>5.087000e+03</td>\n",
       "      <td>5.087000e+03</td>\n",
       "      <td>5.087000e+03</td>\n",
       "      <td>5.087000e+03</td>\n",
       "      <td>...</td>\n",
       "      <td>5.087000e+03</td>\n",
       "      <td>5.087000e+03</td>\n",
       "      <td>5.087000e+03</td>\n",
       "      <td>5.087000e+03</td>\n",
       "      <td>5.087000e+03</td>\n",
       "      <td>5.087000e+03</td>\n",
       "      <td>5087.000000</td>\n",
       "      <td>5087.000000</td>\n",
       "      <td>5087.000000</td>\n",
       "      <td>5087.000000</td>\n",
       "    </tr>\n",
       "    <tr>\n",
       "      <th>mean</th>\n",
       "      <td>0.007273</td>\n",
       "      <td>1.445054e+02</td>\n",
       "      <td>1.285778e+02</td>\n",
       "      <td>1.471348e+02</td>\n",
       "      <td>1.561512e+02</td>\n",
       "      <td>1.561477e+02</td>\n",
       "      <td>1.469646e+02</td>\n",
       "      <td>1.168380e+02</td>\n",
       "      <td>1.144983e+02</td>\n",
       "      <td>1.228639e+02</td>\n",
       "      <td>...</td>\n",
       "      <td>3.485578e+02</td>\n",
       "      <td>4.956476e+02</td>\n",
       "      <td>6.711211e+02</td>\n",
       "      <td>7.468790e+02</td>\n",
       "      <td>6.937372e+02</td>\n",
       "      <td>6.553031e+02</td>\n",
       "      <td>-494.784966</td>\n",
       "      <td>-544.594264</td>\n",
       "      <td>-440.239100</td>\n",
       "      <td>-300.536399</td>\n",
       "    </tr>\n",
       "    <tr>\n",
       "      <th>std</th>\n",
       "      <td>0.084982</td>\n",
       "      <td>2.150669e+04</td>\n",
       "      <td>2.179717e+04</td>\n",
       "      <td>2.191309e+04</td>\n",
       "      <td>2.223366e+04</td>\n",
       "      <td>2.308448e+04</td>\n",
       "      <td>2.410567e+04</td>\n",
       "      <td>2.414109e+04</td>\n",
       "      <td>2.290691e+04</td>\n",
       "      <td>2.102681e+04</td>\n",
       "      <td>...</td>\n",
       "      <td>2.864786e+04</td>\n",
       "      <td>3.551876e+04</td>\n",
       "      <td>4.349963e+04</td>\n",
       "      <td>4.981375e+04</td>\n",
       "      <td>5.087103e+04</td>\n",
       "      <td>5.339979e+04</td>\n",
       "      <td>17844.469520</td>\n",
       "      <td>17722.339334</td>\n",
       "      <td>16273.406292</td>\n",
       "      <td>14459.795577</td>\n",
       "    </tr>\n",
       "    <tr>\n",
       "      <th>min</th>\n",
       "      <td>0.000000</td>\n",
       "      <td>-2.278563e+05</td>\n",
       "      <td>-3.154408e+05</td>\n",
       "      <td>-2.840018e+05</td>\n",
       "      <td>-2.340069e+05</td>\n",
       "      <td>-4.231956e+05</td>\n",
       "      <td>-5.975521e+05</td>\n",
       "      <td>-6.724046e+05</td>\n",
       "      <td>-5.790136e+05</td>\n",
       "      <td>-3.973882e+05</td>\n",
       "      <td>...</td>\n",
       "      <td>-3.240480e+05</td>\n",
       "      <td>-3.045540e+05</td>\n",
       "      <td>-2.933140e+05</td>\n",
       "      <td>-2.838420e+05</td>\n",
       "      <td>-3.288214e+05</td>\n",
       "      <td>-5.028894e+05</td>\n",
       "      <td>-775322.000000</td>\n",
       "      <td>-732006.000000</td>\n",
       "      <td>-700992.000000</td>\n",
       "      <td>-643170.000000</td>\n",
       "    </tr>\n",
       "    <tr>\n",
       "      <th>25%</th>\n",
       "      <td>0.000000</td>\n",
       "      <td>-4.234000e+01</td>\n",
       "      <td>-3.952000e+01</td>\n",
       "      <td>-3.850500e+01</td>\n",
       "      <td>-3.505000e+01</td>\n",
       "      <td>-3.195500e+01</td>\n",
       "      <td>-3.338000e+01</td>\n",
       "      <td>-2.813000e+01</td>\n",
       "      <td>-2.784000e+01</td>\n",
       "      <td>-2.683500e+01</td>\n",
       "      <td>...</td>\n",
       "      <td>-1.760000e+01</td>\n",
       "      <td>-1.948500e+01</td>\n",
       "      <td>-1.757000e+01</td>\n",
       "      <td>-2.076000e+01</td>\n",
       "      <td>-2.226000e+01</td>\n",
       "      <td>-2.440500e+01</td>\n",
       "      <td>-26.760000</td>\n",
       "      <td>-24.065000</td>\n",
       "      <td>-21.135000</td>\n",
       "      <td>-19.820000</td>\n",
       "    </tr>\n",
       "    <tr>\n",
       "      <th>50%</th>\n",
       "      <td>0.000000</td>\n",
       "      <td>-7.100000e-01</td>\n",
       "      <td>-8.900000e-01</td>\n",
       "      <td>-7.400000e-01</td>\n",
       "      <td>-4.000000e-01</td>\n",
       "      <td>-6.100000e-01</td>\n",
       "      <td>-1.030000e+00</td>\n",
       "      <td>-8.700000e-01</td>\n",
       "      <td>-6.600000e-01</td>\n",
       "      <td>-5.600000e-01</td>\n",
       "      <td>...</td>\n",
       "      <td>2.600000e+00</td>\n",
       "      <td>2.680000e+00</td>\n",
       "      <td>3.050000e+00</td>\n",
       "      <td>3.590000e+00</td>\n",
       "      <td>3.230000e+00</td>\n",
       "      <td>3.500000e+00</td>\n",
       "      <td>-0.680000</td>\n",
       "      <td>0.360000</td>\n",
       "      <td>0.900000</td>\n",
       "      <td>1.430000</td>\n",
       "    </tr>\n",
       "    <tr>\n",
       "      <th>75%</th>\n",
       "      <td>0.000000</td>\n",
       "      <td>4.825500e+01</td>\n",
       "      <td>4.428500e+01</td>\n",
       "      <td>4.232500e+01</td>\n",
       "      <td>3.976500e+01</td>\n",
       "      <td>3.975000e+01</td>\n",
       "      <td>3.514000e+01</td>\n",
       "      <td>3.406000e+01</td>\n",
       "      <td>3.170000e+01</td>\n",
       "      <td>3.045500e+01</td>\n",
       "      <td>...</td>\n",
       "      <td>2.211000e+01</td>\n",
       "      <td>2.235000e+01</td>\n",
       "      <td>2.639500e+01</td>\n",
       "      <td>2.909000e+01</td>\n",
       "      <td>2.780000e+01</td>\n",
       "      <td>3.085500e+01</td>\n",
       "      <td>18.175000</td>\n",
       "      <td>18.770000</td>\n",
       "      <td>19.465000</td>\n",
       "      <td>20.280000</td>\n",
       "    </tr>\n",
       "    <tr>\n",
       "      <th>max</th>\n",
       "      <td>1.000000</td>\n",
       "      <td>1.439240e+06</td>\n",
       "      <td>1.453319e+06</td>\n",
       "      <td>1.468429e+06</td>\n",
       "      <td>1.495750e+06</td>\n",
       "      <td>1.510937e+06</td>\n",
       "      <td>1.508152e+06</td>\n",
       "      <td>1.465743e+06</td>\n",
       "      <td>1.416827e+06</td>\n",
       "      <td>1.342888e+06</td>\n",
       "      <td>...</td>\n",
       "      <td>1.779338e+06</td>\n",
       "      <td>2.379227e+06</td>\n",
       "      <td>2.992070e+06</td>\n",
       "      <td>3.434973e+06</td>\n",
       "      <td>3.481220e+06</td>\n",
       "      <td>3.616292e+06</td>\n",
       "      <td>288607.500000</td>\n",
       "      <td>215972.000000</td>\n",
       "      <td>207590.000000</td>\n",
       "      <td>211302.000000</td>\n",
       "    </tr>\n",
       "  </tbody>\n",
       "</table>\n",
       "<p>8 rows × 3198 columns</p>\n",
       "</div>"
      ],
      "text/plain": [
       "             LABEL        FLUX.1        FLUX.2        FLUX.3        FLUX.4  \\\n",
       "count  5087.000000  5.087000e+03  5.087000e+03  5.087000e+03  5.087000e+03   \n",
       "mean      0.007273  1.445054e+02  1.285778e+02  1.471348e+02  1.561512e+02   \n",
       "std       0.084982  2.150669e+04  2.179717e+04  2.191309e+04  2.223366e+04   \n",
       "min       0.000000 -2.278563e+05 -3.154408e+05 -2.840018e+05 -2.340069e+05   \n",
       "25%       0.000000 -4.234000e+01 -3.952000e+01 -3.850500e+01 -3.505000e+01   \n",
       "50%       0.000000 -7.100000e-01 -8.900000e-01 -7.400000e-01 -4.000000e-01   \n",
       "75%       0.000000  4.825500e+01  4.428500e+01  4.232500e+01  3.976500e+01   \n",
       "max       1.000000  1.439240e+06  1.453319e+06  1.468429e+06  1.495750e+06   \n",
       "\n",
       "             FLUX.5        FLUX.6        FLUX.7        FLUX.8        FLUX.9  \\\n",
       "count  5.087000e+03  5.087000e+03  5.087000e+03  5.087000e+03  5.087000e+03   \n",
       "mean   1.561477e+02  1.469646e+02  1.168380e+02  1.144983e+02  1.228639e+02   \n",
       "std    2.308448e+04  2.410567e+04  2.414109e+04  2.290691e+04  2.102681e+04   \n",
       "min   -4.231956e+05 -5.975521e+05 -6.724046e+05 -5.790136e+05 -3.973882e+05   \n",
       "25%   -3.195500e+01 -3.338000e+01 -2.813000e+01 -2.784000e+01 -2.683500e+01   \n",
       "50%   -6.100000e-01 -1.030000e+00 -8.700000e-01 -6.600000e-01 -5.600000e-01   \n",
       "75%    3.975000e+01  3.514000e+01  3.406000e+01  3.170000e+01  3.045500e+01   \n",
       "max    1.510937e+06  1.508152e+06  1.465743e+06  1.416827e+06  1.342888e+06   \n",
       "\n",
       "       ...     FLUX.3188     FLUX.3189     FLUX.3190     FLUX.3191  \\\n",
       "count  ...  5.087000e+03  5.087000e+03  5.087000e+03  5.087000e+03   \n",
       "mean   ...  3.485578e+02  4.956476e+02  6.711211e+02  7.468790e+02   \n",
       "std    ...  2.864786e+04  3.551876e+04  4.349963e+04  4.981375e+04   \n",
       "min    ... -3.240480e+05 -3.045540e+05 -2.933140e+05 -2.838420e+05   \n",
       "25%    ... -1.760000e+01 -1.948500e+01 -1.757000e+01 -2.076000e+01   \n",
       "50%    ...  2.600000e+00  2.680000e+00  3.050000e+00  3.590000e+00   \n",
       "75%    ...  2.211000e+01  2.235000e+01  2.639500e+01  2.909000e+01   \n",
       "max    ...  1.779338e+06  2.379227e+06  2.992070e+06  3.434973e+06   \n",
       "\n",
       "          FLUX.3192     FLUX.3193      FLUX.3194      FLUX.3195  \\\n",
       "count  5.087000e+03  5.087000e+03    5087.000000    5087.000000   \n",
       "mean   6.937372e+02  6.553031e+02    -494.784966    -544.594264   \n",
       "std    5.087103e+04  5.339979e+04   17844.469520   17722.339334   \n",
       "min   -3.288214e+05 -5.028894e+05 -775322.000000 -732006.000000   \n",
       "25%   -2.226000e+01 -2.440500e+01     -26.760000     -24.065000   \n",
       "50%    3.230000e+00  3.500000e+00      -0.680000       0.360000   \n",
       "75%    2.780000e+01  3.085500e+01      18.175000      18.770000   \n",
       "max    3.481220e+06  3.616292e+06  288607.500000  215972.000000   \n",
       "\n",
       "           FLUX.3196      FLUX.3197  \n",
       "count    5087.000000    5087.000000  \n",
       "mean     -440.239100    -300.536399  \n",
       "std     16273.406292   14459.795577  \n",
       "min   -700992.000000 -643170.000000  \n",
       "25%       -21.135000     -19.820000  \n",
       "50%         0.900000       1.430000  \n",
       "75%        19.465000      20.280000  \n",
       "max    207590.000000  211302.000000  \n",
       "\n",
       "[8 rows x 3198 columns]"
      ]
     },
     "execution_count": 11,
     "metadata": {},
     "output_type": "execute_result"
    }
   ],
   "source": [
    "train.describe()"
   ]
  },
  {
   "cell_type": "code",
   "execution_count": 12,
   "metadata": {},
   "outputs": [
    {
     "data": {
      "text/html": [
       "<div>\n",
       "<style scoped>\n",
       "    .dataframe tbody tr th:only-of-type {\n",
       "        vertical-align: middle;\n",
       "    }\n",
       "\n",
       "    .dataframe tbody tr th {\n",
       "        vertical-align: top;\n",
       "    }\n",
       "\n",
       "    .dataframe thead th {\n",
       "        text-align: right;\n",
       "    }\n",
       "</style>\n",
       "<table border=\"1\" class=\"dataframe\">\n",
       "  <thead>\n",
       "    <tr style=\"text-align: right;\">\n",
       "      <th></th>\n",
       "      <th>0</th>\n",
       "      <th>1</th>\n",
       "      <th>2</th>\n",
       "      <th>3</th>\n",
       "      <th>4</th>\n",
       "      <th>5</th>\n",
       "      <th>6</th>\n",
       "      <th>7</th>\n",
       "      <th>8</th>\n",
       "      <th>9</th>\n",
       "      <th>...</th>\n",
       "      <th>5077</th>\n",
       "      <th>5078</th>\n",
       "      <th>5079</th>\n",
       "      <th>5080</th>\n",
       "      <th>5081</th>\n",
       "      <th>5082</th>\n",
       "      <th>5083</th>\n",
       "      <th>5084</th>\n",
       "      <th>5085</th>\n",
       "      <th>5086</th>\n",
       "    </tr>\n",
       "  </thead>\n",
       "  <tbody>\n",
       "    <tr>\n",
       "      <th>LABEL</th>\n",
       "      <td>0.00</td>\n",
       "      <td>0.00</td>\n",
       "      <td>0.00</td>\n",
       "      <td>0.00</td>\n",
       "      <td>0.00</td>\n",
       "      <td>0.00</td>\n",
       "      <td>0.00</td>\n",
       "      <td>0.00</td>\n",
       "      <td>0.00</td>\n",
       "      <td>0.00</td>\n",
       "      <td>...</td>\n",
       "      <td>0.00</td>\n",
       "      <td>0.00</td>\n",
       "      <td>0.00</td>\n",
       "      <td>0.00</td>\n",
       "      <td>0.00</td>\n",
       "      <td>0.00</td>\n",
       "      <td>0.00</td>\n",
       "      <td>0.00</td>\n",
       "      <td>0.00</td>\n",
       "      <td>0.00</td>\n",
       "    </tr>\n",
       "    <tr>\n",
       "      <th>FLUX.1</th>\n",
       "      <td>1.13</td>\n",
       "      <td>-24.34</td>\n",
       "      <td>6.00</td>\n",
       "      <td>-47.72</td>\n",
       "      <td>9.01</td>\n",
       "      <td>5.75</td>\n",
       "      <td>-413.82</td>\n",
       "      <td>-2.85</td>\n",
       "      <td>-624.43</td>\n",
       "      <td>35.86</td>\n",
       "      <td>...</td>\n",
       "      <td>39.84</td>\n",
       "      <td>375.08</td>\n",
       "      <td>-738.50</td>\n",
       "      <td>-259.91</td>\n",
       "      <td>-5.19</td>\n",
       "      <td>281.92</td>\n",
       "      <td>265.28</td>\n",
       "      <td>-155.50</td>\n",
       "      <td>3.86</td>\n",
       "      <td>-27.00</td>\n",
       "    </tr>\n",
       "    <tr>\n",
       "      <th>FLUX.2</th>\n",
       "      <td>0.32</td>\n",
       "      <td>-19.58</td>\n",
       "      <td>7.70</td>\n",
       "      <td>-54.29</td>\n",
       "      <td>-4.29</td>\n",
       "      <td>12.48</td>\n",
       "      <td>-415.88</td>\n",
       "      <td>2.66</td>\n",
       "      <td>-515.56</td>\n",
       "      <td>12.77</td>\n",
       "      <td>...</td>\n",
       "      <td>40.44</td>\n",
       "      <td>378.72</td>\n",
       "      <td>-955.13</td>\n",
       "      <td>-264.97</td>\n",
       "      <td>10.68</td>\n",
       "      <td>237.16</td>\n",
       "      <td>244.11</td>\n",
       "      <td>-42.25</td>\n",
       "      <td>-1.44</td>\n",
       "      <td>-38.31</td>\n",
       "    </tr>\n",
       "    <tr>\n",
       "      <th>FLUX.3</th>\n",
       "      <td>3.64</td>\n",
       "      <td>-12.05</td>\n",
       "      <td>2.87</td>\n",
       "      <td>-53.11</td>\n",
       "      <td>4.34</td>\n",
       "      <td>-27.54</td>\n",
       "      <td>-411.29</td>\n",
       "      <td>-3.45</td>\n",
       "      <td>-497.81</td>\n",
       "      <td>12.39</td>\n",
       "      <td>...</td>\n",
       "      <td>53.52</td>\n",
       "      <td>251.97</td>\n",
       "      <td>-916.94</td>\n",
       "      <td>-247.56</td>\n",
       "      <td>11.44</td>\n",
       "      <td>215.55</td>\n",
       "      <td>236.61</td>\n",
       "      <td>-27.25</td>\n",
       "      <td>-6.63</td>\n",
       "      <td>-43.80</td>\n",
       "    </tr>\n",
       "    <tr>\n",
       "      <th>FLUX.4</th>\n",
       "      <td>-2.55</td>\n",
       "      <td>-14.69</td>\n",
       "      <td>4.32</td>\n",
       "      <td>-53.47</td>\n",
       "      <td>-1.24</td>\n",
       "      <td>-2.04</td>\n",
       "      <td>-388.54</td>\n",
       "      <td>-2.60</td>\n",
       "      <td>-472.00</td>\n",
       "      <td>14.67</td>\n",
       "      <td>...</td>\n",
       "      <td>40.47</td>\n",
       "      <td>394.27</td>\n",
       "      <td>-902.76</td>\n",
       "      <td>-234.96</td>\n",
       "      <td>41.75</td>\n",
       "      <td>234.83</td>\n",
       "      <td>190.09</td>\n",
       "      <td>-150.75</td>\n",
       "      <td>0.36</td>\n",
       "      <td>-74.36</td>\n",
       "    </tr>\n",
       "  </tbody>\n",
       "</table>\n",
       "<p>5 rows × 5087 columns</p>\n",
       "</div>"
      ],
      "text/plain": [
       "        0      1     2      3     4      5       6     7       8      9     \\\n",
       "LABEL   0.00   0.00  0.00   0.00  0.00   0.00    0.00  0.00    0.00   0.00   \n",
       "FLUX.1  1.13 -24.34  6.00 -47.72  9.01   5.75 -413.82 -2.85 -624.43  35.86   \n",
       "FLUX.2  0.32 -19.58  7.70 -54.29 -4.29  12.48 -415.88  2.66 -515.56  12.77   \n",
       "FLUX.3  3.64 -12.05  2.87 -53.11  4.34 -27.54 -411.29 -3.45 -497.81  12.39   \n",
       "FLUX.4 -2.55 -14.69  4.32 -53.47 -1.24  -2.04 -388.54 -2.60 -472.00  14.67   \n",
       "\n",
       "        ...   5077    5078    5079    5080   5081    5082    5083    5084  \\\n",
       "LABEL   ...   0.00    0.00    0.00    0.00   0.00    0.00    0.00    0.00   \n",
       "FLUX.1  ...  39.84  375.08 -738.50 -259.91  -5.19  281.92  265.28 -155.50   \n",
       "FLUX.2  ...  40.44  378.72 -955.13 -264.97  10.68  237.16  244.11  -42.25   \n",
       "FLUX.3  ...  53.52  251.97 -916.94 -247.56  11.44  215.55  236.61  -27.25   \n",
       "FLUX.4  ...  40.47  394.27 -902.76 -234.96  41.75  234.83  190.09 -150.75   \n",
       "\n",
       "        5085   5086  \n",
       "LABEL   0.00   0.00  \n",
       "FLUX.1  3.86 -27.00  \n",
       "FLUX.2 -1.44 -38.31  \n",
       "FLUX.3 -6.63 -43.80  \n",
       "FLUX.4  0.36 -74.36  \n",
       "\n",
       "[5 rows x 5087 columns]"
      ]
     },
     "execution_count": 12,
     "metadata": {},
     "output_type": "execute_result"
    }
   ],
   "source": [
    "trainT = train.T\n",
    "trainT.head()"
   ]
  },
  {
   "cell_type": "code",
   "execution_count": 13,
   "metadata": {},
   "outputs": [
    {
     "data": {
      "image/png": "[encoded data removed]",
      "text/plain": [
       "<Figure size 576x432 with 5 Axes>"
      ]
     },
     "metadata": {
      "needs_background": "light"
     },
     "output_type": "display_data"
    }
   ],
   "source": [
    "fig, ax = plt.subplots(5,1, figsize=(8,6))\n",
    "\n",
    "colors = ('tab:green', 'firebrick', 'royalblue', 'darkviolet', 'darkorange')\n",
    "for i, color in enumerate(colors):\n",
    "    trainT.iloc[:, train[train['LABEL'] == 1].index.values].iloc[1:,i].plot(subplots=True,\n",
    "                             title=\"Flux Over Time for Starts With No Exoplanets\",\n",
    "                            sharex=True, ax=ax.flat[i], color=color)\n",
    "fig.tight_layout()\n",
    "fig.savefig(\"data/exoplanets_wavelengths.png\")"
   ]
  },
  {
   "cell_type": "code",
   "execution_count": 14,
   "metadata": {},
   "outputs": [
    {
     "data": {
      "image/png": "[encoded data removed]",
      "text/plain": [
       "<Figure size 576x432 with 5 Axes>"
      ]
     },
     "metadata": {
      "needs_background": "light"
     },
     "output_type": "display_data"
    }
   ],
   "source": [
    "fig, axes = plt.subplots(5,1, figsize=(8,6))\n",
    "\n",
    "colors = ('tab:green', 'firebrick', 'royalblue', 'darkviolet', 'darkorange')\n",
    "for i, color in enumerate(colors):\n",
    "    ax = axes.flat[i]\n",
    "    trainT.iloc[:, train[train['LABEL'] == 0].index.values].iloc[1:,i].plot(subplots=True,\n",
    "                            sharex=True, ax=ax, color=color)\n",
    "    ax.get_xaxis().set_visible(False)\n",
    "    ax.get_yaxis().set_visible(False)\n",
    "fig.tight_layout()\n",
    "fig.savefig(\"data/no_exoplanets_wavelengths.png\")"
   ]
  },
  {
   "cell_type": "markdown",
   "metadata": {},
   "source": [
    "### SCale the training data and add 1d uniform filter as a second channel to the data"
   ]
  },
  {
   "cell_type": "code",
   "execution_count": 26,
   "metadata": {},
   "outputs": [],
   "source": [
    "scaler = StandardScaler()\n",
    "x_train_scaled = scaler.fit_transform(train.iloc[:, 1:])\n",
    "y_train = train['LABEL']\n",
    "\n",
    "x_test_scaled = scaler.transform(test.iloc[:, 1:])\n",
    "y_test = test['LABEL']"
   ]
  },
  {
   "cell_type": "code",
   "execution_count": 82,
   "metadata": {},
   "outputs": [],
   "source": [
    "pickle.dump(scaler, open('./data/scaler.pkl', 'wb'))"
   ]
  },
  {
   "cell_type": "code",
   "execution_count": 27,
   "metadata": {},
   "outputs": [],
   "source": [
    "x_train_scaled_filt = np.stack([x_train_scaled, uniform_filter1d(x_train_scaled, axis=1, size=200)], axis=2)\n",
    "x_test_scaled_filt = np.stack([x_test_scaled, uniform_filter1d(x_test_scaled, axis=1, size=200)], axis=2)"
   ]
  },
  {
   "cell_type": "code",
   "execution_count": 31,
   "metadata": {},
   "outputs": [
    {
     "name": "stdout",
     "output_type": "stream",
     "text": [
      "shape of arr:  (5087, 3197, 2)\n",
      "shape of load_original_arr:  (5087, 3197, 2)\n",
      "Yes, both the arrays are same\n"
     ]
    }
   ],
   "source": [
    "arr_reshaped = x_train_scaled_filt.reshape(x_train_scaled_filt.shape[0], -1)\n",
    "np.savetxt('data/x_train_scaled__filt.txt', arr_reshaped)\n",
    "\n",
    "# retrieving data from file.\n",
    "loaded_arr = np.loadtxt(\"data/x_train_scaled__filt.txt\")\n",
    "  \n",
    "# This loadedArr is a 2D array, therefore\n",
    "# we need to convert it to the original\n",
    "# array shape.reshaping to get original\n",
    "# matrice with original shape.\n",
    "load_original_arr = loaded_arr.reshape(\n",
    "    loaded_arr.shape[0], loaded_arr.shape[1] // x_train_scaled_filt.shape[2], x_train_scaled_filt.shape[2])\n",
    "  \n",
    "# check the shapes:\n",
    "print(\"shape of arr: \", x_train_scaled_filt.shape)\n",
    "print(\"shape of load_original_arr: \", load_original_arr.shape)\n",
    "  \n",
    "# check if both arrays are same or not:\n",
    "if (load_original_arr == x_train_scaled_filt).all():\n",
    "    print(\"Yes, both the arrays are same\")\n",
    "else:\n",
    "    print(\"No, both the arrays are not same\")\n"
   ]
  },
  {
   "cell_type": "code",
   "execution_count": 84,
   "metadata": {},
   "outputs": [
    {
     "name": "stdout",
     "output_type": "stream",
     "text": [
      "shape of arr:  (570, 3197, 2)\n",
      "shape of load_original_arr:  (570, 3197, 2)\n",
      "Yes, both the arrays are same\n"
     ]
    }
   ],
   "source": [
    "arr_reshaped = x_test_scaled_filt.reshape(x_test_scaled_filt.shape[0], -1)\n",
    "np.savetxt('data/x_test_scaled_filt.txt', arr_reshaped)\n",
    "\n",
    "# retrieving data from file.\n",
    "loaded_arr = np.loadtxt(\"data/x_test_scaled_filt.txt\")\n",
    "  \n",
    "# This loadedArr is a 2D array, therefore\n",
    "# we need to convert it to the original\n",
    "# array shape.reshaping to get original\n",
    "# matrice with original shape.\n",
    "load_original_arr = loaded_arr.reshape(\n",
    "    loaded_arr.shape[0], loaded_arr.shape[1] // 2, 2)\n",
    "  \n",
    "# check the shapes:\n",
    "print(\"shape of arr: \", x_test_scaled_filt.shape)\n",
    "print(\"shape of load_original_arr: \", load_original_arr.shape)\n",
    "  \n",
    "# check if both arrays are same or not:\n",
    "if (load_original_arr == x_test_scaled_filt).all():\n",
    "    print(\"Yes, both the arrays are same\")\n",
    "else:\n",
    "    print(\"No, both the arrays are not same\")"
   ]
  },
  {
   "cell_type": "code",
   "execution_count": null,
   "metadata": {},
   "outputs": [],
   "source": [
    "loaded_arr = np.loadtxt(os.path.join(\"training_dir\", x_file))\n",
    "features = loaded_arr.reshape(\n",
    "    loaded_arr.shape[0], loaded_arr.shape[1] // 2, 2)\n",
    "\n",
    "\n",
    "\n",
    "labels = pd.read_csv(os.path.join(\"./data\", 'y_train.csv'))['LABEL'].values\n",
    "\n",
    "tensor_labels = torch.tensor(labels)\n",
    "tensor_features = torch.tensor(features)\n",
    "\n",
    "dataset = TensorDataset(tensor_features, tensor_labels)\n",
    "\n",
    "tensor_dataloader = DataLoader(dataset, batch_size=batch_size, \n",
    "                               sampler=ImbalancedDatasetSampler(dataset, labels))\n"
   ]
  },
  {
   "cell_type": "code",
   "execution_count": 83,
   "metadata": {},
   "outputs": [],
   "source": [
    "y_train.to_csv(\"data/y_train.csv\", index=False)\n",
    "y_test.to_csv(\"data/y_test.csv\", index=False)"
   ]
  },
  {
   "cell_type": "markdown",
   "metadata": {},
   "source": [
    "### Label Distribution"
   ]
  },
  {
   "cell_type": "code",
   "execution_count": 32,
   "metadata": {},
   "outputs": [
    {
     "data": {
      "text/html": [
       "<div>\n",
       "<style scoped>\n",
       "    .dataframe tbody tr th:only-of-type {\n",
       "        vertical-align: middle;\n",
       "    }\n",
       "\n",
       "    .dataframe tbody tr th {\n",
       "        vertical-align: top;\n",
       "    }\n",
       "\n",
       "    .dataframe thead th {\n",
       "        text-align: right;\n",
       "    }\n",
       "</style>\n",
       "<table border=\"1\" class=\"dataframe\">\n",
       "  <thead>\n",
       "    <tr style=\"text-align: right;\">\n",
       "      <th></th>\n",
       "      <th>LABEL</th>\n",
       "      <th>count</th>\n",
       "      <th>%</th>\n",
       "    </tr>\n",
       "  </thead>\n",
       "  <tbody>\n",
       "    <tr>\n",
       "      <th>0</th>\n",
       "      <td>0</td>\n",
       "      <td>5050</td>\n",
       "      <td>0.992727</td>\n",
       "    </tr>\n",
       "    <tr>\n",
       "      <th>1</th>\n",
       "      <td>1</td>\n",
       "      <td>37</td>\n",
       "      <td>0.007273</td>\n",
       "    </tr>\n",
       "  </tbody>\n",
       "</table>\n",
       "</div>"
      ],
      "text/plain": [
       "   LABEL  count         %\n",
       "0      0   5050  0.992727\n",
       "1      1     37  0.007273"
      ]
     },
     "execution_count": 32,
     "metadata": {},
     "output_type": "execute_result"
    }
   ],
   "source": [
    "train_dist = pd.DataFrame(train.groupby(['LABEL']).size()).reset_index().rename({0: \"count\"}, axis=1)\n",
    "train_dist['%'] = train_dist[\"count\"] / len(train)\n",
    "train_dist"
   ]
  },
  {
   "cell_type": "code",
   "execution_count": 48,
   "metadata": {},
   "outputs": [
    {
     "data": {
      "text/html": [
       "<div>\n",
       "<style scoped>\n",
       "    .dataframe tbody tr th:only-of-type {\n",
       "        vertical-align: middle;\n",
       "    }\n",
       "\n",
       "    .dataframe tbody tr th {\n",
       "        vertical-align: top;\n",
       "    }\n",
       "\n",
       "    .dataframe thead th {\n",
       "        text-align: right;\n",
       "    }\n",
       "</style>\n",
       "<table border=\"1\" class=\"dataframe\">\n",
       "  <thead>\n",
       "    <tr style=\"text-align: right;\">\n",
       "      <th></th>\n",
       "      <th>LABEL</th>\n",
       "      <th>count</th>\n",
       "      <th>%</th>\n",
       "    </tr>\n",
       "  </thead>\n",
       "  <tbody>\n",
       "    <tr>\n",
       "      <th>0</th>\n",
       "      <td>0</td>\n",
       "      <td>565</td>\n",
       "      <td>0.991228</td>\n",
       "    </tr>\n",
       "    <tr>\n",
       "      <th>1</th>\n",
       "      <td>1</td>\n",
       "      <td>5</td>\n",
       "      <td>0.008772</td>\n",
       "    </tr>\n",
       "  </tbody>\n",
       "</table>\n",
       "</div>"
      ],
      "text/plain": [
       "   LABEL  count         %\n",
       "0      0    565  0.991228\n",
       "1      1      5  0.008772"
      ]
     },
     "execution_count": 48,
     "metadata": {},
     "output_type": "execute_result"
    }
   ],
   "source": [
    "test_dist = pd.DataFrame(test.groupby(['LABEL']).size()).reset_index().rename({0: \"count\"}, axis=1)\n",
    "test_dist['%'] = test_dist[\"count\"] / len(test)\n",
    "test_dist"
   ]
  },
  {
   "cell_type": "markdown",
   "metadata": {},
   "source": [
    "### PCA with 2 Components"
   ]
  },
  {
   "cell_type": "code",
   "execution_count": 17,
   "metadata": {},
   "outputs": [
    {
     "name": "stdout",
     "output_type": "stream",
     "text": [
      "Explained variance [0.54352887 0.15767919]\n"
     ]
    },
    {
     "data": {
      "text/plain": [
       "(5087, 3)"
      ]
     },
     "execution_count": 17,
     "metadata": {},
     "output_type": "execute_result"
    }
   ],
   "source": [
    "pca = PCA(2)\n",
    "pca_train = pd.DataFrame(pca.fit_transform(train.iloc[:, 1:]))\n",
    "pca_train['label'] = train['LABEL']\n",
    "print(f\"Explained variance {pca.explained_variance_ratio_}\")\n",
    "pca_train.shape"
   ]
  },
  {
   "cell_type": "code",
   "execution_count": 65,
   "metadata": {},
   "outputs": [
    {
     "data": {
      "image/png": "[encoded data removed]",
      "text/plain": [
       "<Figure size 432x432 with 1 Axes>"
      ]
     },
     "metadata": {
      "needs_background": "light"
     },
     "output_type": "display_data"
    }
   ],
   "source": [
    "fig, ax = plt.subplots(1, 1, figsize=(6, 6),)\n",
    "for i, (color, marker) in enumerate(zip(('firebrick', 'tab:green'), ('o', 'o'))):\n",
    "    sns.scatterplot(x=0, y=1, data=pca_train[pca_train['label'] == i], \n",
    "                    color=color, marker=marker, ax=ax, label=i)\n",
    "fig.savefig(\"data/pca2_scatter.png\")"
   ]
  },
  {
   "cell_type": "code",
   "execution_count": 68,
   "metadata": {},
   "outputs": [
    {
     "data": {
      "image/png": "[encoded data removed]",
      "text/plain": [
       "<Figure size 576x576 with 2 Axes>"
      ]
     },
     "metadata": {
      "needs_background": "light"
     },
     "output_type": "display_data"
    }
   ],
   "source": [
    "fig, axes = plt.subplots(2, 1, figsize=(8, 8),)\n",
    "for i, (color, marker) in enumerate(zip(('firebrick', 'tab:green'), ('o', 'o'))):\n",
    "    sns.scatterplot(x=0, y=1, data=pca_train[pca_train['label'] == i], \n",
    "                    color=color, marker=marker, ax=axes.flat[i], label=i)\n",
    "fig.savefig(\"data/pca2_scatter_subplots_nosharex.png\")"
   ]
  },
  {
   "cell_type": "code",
   "execution_count": 75,
   "metadata": {},
   "outputs": [
    {
     "data": {
      "image/png": "[encoded data removed]",
      "text/plain": [
       "<Figure size 576x576 with 2 Axes>"
      ]
     },
     "metadata": {
      "needs_background": "light"
     },
     "output_type": "display_data"
    }
   ],
   "source": [
    "fig, axes = plt.subplots(2, 1, figsize=(8, 8),)\n",
    "for i, (color, marker) in enumerate(zip(('firebrick', 'tab:green'), ('o', 'o'))):\n",
    "    sns.scatterplot(x=0, y=1, data=pca_train[pca_train['label'] == i], \n",
    "                    color=color, marker=marker, ax=axes.flat[i], label=i)\n",
    "    axes.flat[i].set_ylim([-2.5e6, 4e6])\n",
    "    axes.flat[i].set_xlim([-1.0e6, 0.2e6])"
   ]
  },
  {
   "cell_type": "code",
   "execution_count": 78,
   "metadata": {},
   "outputs": [
    {
     "data": {
      "image/png": "[encoded data removed]",
      "text/plain": [
       "<Figure size 576x576 with 1 Axes>"
      ]
     },
     "metadata": {
      "needs_background": "light"
     },
     "output_type": "display_data"
    }
   ],
   "source": [
    "fig, ax = plt.subplots(1, 1, figsize=(8, 8),)\n",
    "for i, (color, marker) in enumerate(zip(('firebrick', 'tab:green'), ('o', 'o'))):\n",
    "    sns.scatterplot(x=0, y=1, data=pca_train[pca_train['label'] == i], \n",
    "                    color=color, marker=marker, ax=ax, label=i)\n",
    "    ax.set_ylim([-2.5e6, 4e6])\n",
    "    ax.set_xlim([-1.0e6, 0.2e6])\n",
    "fig.savefig(\"data/pca2_zoomed.png\")"
   ]
  },
  {
   "cell_type": "code",
   "execution_count": 69,
   "metadata": {},
   "outputs": [
    {
     "data": {
      "image/png": "[encoded data removed]",
      "text/plain": [
       "<Figure size 576x576 with 2 Axes>"
      ]
     },
     "metadata": {
      "needs_background": "light"
     },
     "output_type": "display_data"
    }
   ],
   "source": [
    "fig, axes = plt.subplots(2, 1, figsize=(8, 8), sharex=True, sharey=True)\n",
    "for i, (color, marker) in enumerate(zip(('firebrick', 'royalblue'), ('o', 'x'))):\n",
    "    sns.scatterplot(x=0, y=1, data=pca_train[pca_train['label'] == i], \n",
    "                    color=color, marker=marker, ax=axes.flat[i], label=i)\n",
    "fig.savefig(\"data/pca2_scatter_subplots_sharex.png\")"
   ]
  },
  {
   "cell_type": "markdown",
   "metadata": {},
   "source": [
    "### PCA With 3 Components"
   ]
  },
  {
   "cell_type": "code",
   "execution_count": 53,
   "metadata": {},
   "outputs": [
    {
     "name": "stdout",
     "output_type": "stream",
     "text": [
      "Explained variance [0.54352887 0.15767919 0.10896863]\n"
     ]
    },
    {
     "data": {
      "text/plain": [
       "(5087, 4)"
      ]
     },
     "execution_count": 53,
     "metadata": {},
     "output_type": "execute_result"
    }
   ],
   "source": [
    "pca3 = PCA(3)\n",
    "pca3_train = pd.DataFrame(pca3.fit_transform(train.iloc[:, 1:]))\n",
    "pca3_train['label'] = train['LABEL'].astype('str')\n",
    "print(f\"Explained variance {pca3.explained_variance_ratio_}\")\n",
    "pca3_train.shape"
   ]
  },
  {
   "cell_type": "code",
   "execution_count": 54,
   "metadata": {},
   "outputs": [
    {
     "data": {
      "text/plain": [
       "<mpl_toolkits.mplot3d.art3d.Path3DCollection at 0x7fd007f71198>"
      ]
     },
     "execution_count": 54,
     "metadata": {},
     "output_type": "execute_result"
    },
    {
     "data": {
      "image/png": "[encoded data removed]",
      "text/plain": [
       "<Figure size 432x288 with 1 Axes>"
      ]
     },
     "metadata": {
      "needs_background": "light"
     },
     "output_type": "display_data"
    }
   ],
   "source": [
    "fig = plt.figure()\n",
    "ax = plt.axes(projection='3d')\n",
    "ax.scatter3D(pca3_train[0], pca3_train[1], pca3_train[2])"
   ]
  },
  {
   "cell_type": "code",
   "execution_count": 77,
   "metadata": {},
   "outputs": [
    {
     "data": {
      "text/plain": [
       "(-1000000.0, 200000.0)"
      ]
     },
     "execution_count": 77,
     "metadata": {},
     "output_type": "execute_result"
    },
    {
     "data": {
      "image/png": "[encoded data removed]",
      "text/plain": [
       "<Figure size 432x288 with 1 Axes>"
      ]
     },
     "metadata": {
      "needs_background": "light"
     },
     "output_type": "display_data"
    }
   ],
   "source": [
    "fig = plt.figure()\n",
    "ax = plt.axes(projection='3d')\n",
    "ax.scatter3D(pca3_train[0], pca3_train[1], pca3_train[2])\n",
    "ax.set_ylim([-2.5e6, 4e6])\n",
    "ax.set_xlim([-1.0e6, 0.2e6])"
   ]
  },
  {
   "cell_type": "code",
   "execution_count": 59,
   "metadata": {},
   "outputs": [],
   "source": [
    "fig = px.scatter_3d(pca3_train, x=0, y=1, z=2, color='label', title=\"3 Component PCA Visualization\")\n",
    "fig.write_html(\"data/pca3_plot.html\")"
   ]
  },
  {
   "cell_type": "code",
   "execution_count": 210,
   "metadata": {
    "jupyter": {
     "source_hidden": true
    }
   },
   "outputs": [],
   "source": [
    "class ImbalancedDatasetSampler(torch.utils.data.sampler.Sampler):\n",
    "    \"\"\"\n",
    "    class built by https://github.com/ufoym/imbalanced-dataset-sampler and needed to be modified for this code's TensorDataset,\n",
    "    with no get_labels method\n",
    "    \n",
    "    Samples elements randomly from a given list of indices for imbalanced dataset\n",
    "    Arguments:\n",
    "        indices: a list of indices\n",
    "        num_samples: number of samples to draw\n",
    "        callback_get_label: a callback-like function which takes two arguments - dataset and index\n",
    "    \"\"\"\n",
    "\n",
    "    def __init__(self, dataset, labels: list=None, indices: list = None, num_samples: int = None, callback_get_label: Callable = None):\n",
    "        # if indices is not provided, all elements in the dataset will be considered\n",
    "        self.indices = list(range(len(dataset))) if indices is None else indices\n",
    "\n",
    "        # define custom callback\n",
    "        self.callback_get_label = callback_get_label\n",
    "\n",
    "        # if num_samples is not provided, draw `len(indices)` samples in each iteration\n",
    "        self.num_samples = len(self.indices) if num_samples is None else num_samples\n",
    "\n",
    "        # distribution of classes in the dataset\n",
    "        df = pd.DataFrame()\n",
    "        df[\"label\"] =  self._get_labels(dataset) if labels is None else labels \n",
    "        df.index = self.indices\n",
    "        df = df.sort_index()\n",
    "\n",
    "        label_to_count = df[\"label\"].value_counts()\n",
    "\n",
    "        weights = 1.0 / label_to_count[df[\"label\"]]\n",
    "\n",
    "        self.weights = torch.DoubleTensor(weights.to_list())\n",
    "\n",
    "    def _get_labels(self, dataset):\n",
    "        if self.callback_get_label:\n",
    "            return self.callback_get_label(dataset)\n",
    "        elif isinstance(dataset, torchvision.datasets.MNIST):\n",
    "            return dataset.train_labels.tolist()\n",
    "        elif isinstance(dataset, torchvision.datasets.ImageFolder):\n",
    "            return [x[1] for x in dataset.imgs]\n",
    "        elif isinstance(dataset, torchvision.datasets.DatasetFolder):\n",
    "            return dataset.samples[:][1]\n",
    "        elif isinstance(dataset, torch.utils.data.Subset):\n",
    "            return dataset.dataset.imgs[:][1]\n",
    "        elif isinstance(dataset, torch.utils.data.Dataset):\n",
    "            return dataset.get_labels()\n",
    "        else:\n",
    "            raise NotImplementedError\n",
    "\n",
    "    def __iter__(self):\n",
    "        return (self.indices[i] for i in torch.multinomial(self.weights, self.num_samples, replacement=True))\n",
    "\n",
    "    def __len__(self):\n",
    "        return self.num_samples"
   ]
  },
  {
   "cell_type": "code",
   "execution_count": 29,
   "metadata": {},
   "outputs": [],
   "source": [
    "def get_data_loader(batch_size, training_dir, filename):\n",
    "    logger.info(\"Get data loader\")\n",
    "    \n",
    "    data = pd.read_csv(os.path.join(training_dir, filename))\n",
    "    labels = data.LABEL.values\n",
    "    features = data.loc[:, data.columns != \"LABEL\"].values\n",
    "    \n",
    "    tensor_labels = torch.tensor(labels)\n",
    "    tensor_features = torch.tensor(features)\n",
    "    \n",
    "    dataset = TensorDataset(tensor_features, tensor_labels)\n",
    "    tensor_dataloader = DataLoader(dataset, batch_size=batch_size, shuffle=True)\n",
    "    \n",
    "    return tensor_dataloader"
   ]
  },
  {
   "cell_type": "code",
   "execution_count": 55,
   "metadata": {},
   "outputs": [],
   "source": [
    "def get_data_upsampled_loader(batch_size, training_dir, filename):\n",
    "    logger.info(\"Get data loader\")\n",
    "    \n",
    "    data = pd.read_csv(os.path.join(training_dir, filename))\n",
    "    labels = data.LABEL.values\n",
    "    features = data.loc[:, data.columns != \"LABEL\"].values\n",
    "    \n",
    "    tensor_labels = torch.tensor(labels)\n",
    "    tensor_features = torch.tensor(features)\n",
    "    \n",
    "    dataset = TensorDataset(tensor_features, tensor_labels)\n",
    "    \n",
    "    class_weights = [1, 50] \n",
    "    sample_weights = [0] * len(dataset)\n",
    "    \n",
    "    for idx, (data, label) in enumerate(dataset):\n",
    "        class_weight = class_weights[label]\n",
    "        sample_weights[idx] = class_weight\n",
    "        \n",
    "    sampler = WeightedRandomSampler(sample_weights, num_samples=len(sample_weights),\n",
    "                                   replacement=True)\n",
    "    \n",
    "    tensor_dataloader = DataLoader(dataset, batch_size=batch_size, sampler=sampler)\n",
    "    \n",
    "    return tensor_dataloader"
   ]
  },
  {
   "cell_type": "code",
   "execution_count": 57,
   "metadata": {
    "jupyter": {
     "source_hidden": true
    }
   },
   "outputs": [],
   "source": [
    "def get_data_imbalanced_loader(batch_size, training_dir, filename):\n",
    "    logger.info(\"Get data loader\")\n",
    "    \n",
    "    data = pd.read_csv(os.path.join(training_dir, filename))\n",
    "    labels = data.LABEL.values\n",
    "    features = data.loc[:, data.columns != \"LABEL\"].values\n",
    "    \n",
    "    tensor_labels = torch.tensor(labels)\n",
    "    tensor_features = torch.tensor(features)\n",
    "    \n",
    "    dataset = TensorDataset(tensor_features, tensor_labels)\n",
    "    \n",
    "    tensor_dataloader = DataLoader(dataset, batch_size=batch_size, \n",
    "                                   sampler=ImbalancedDatasetSampler(dataset, labels))\n",
    "    \n",
    "    return tensor_dataloader"
   ]
  },
  {
   "cell_type": "markdown",
   "metadata": {},
   "source": [
    "### View some batches of data"
   ]
  },
  {
   "cell_type": "code",
   "execution_count": 7,
   "metadata": {},
   "outputs": [],
   "source": [
    "def get_data_imbalanced_loader(batch_size, training_dir, x_file, y_file):\n",
    "    logger.info(\"Get data loader\")\n",
    "    \n",
    "    loaded_arr = np.loadtxt(os.path.join(training_dir, x_file))\n",
    "    features = loaded_arr.reshape(\n",
    "        loaded_arr.shape[0], loaded_arr.shape[1] // 2, 2)\n",
    "    \n",
    "    labels = pd.read_csv(os.path.join(\"./data\", 'y_train.csv'))['LABEL'].values\n",
    "    \n",
    "    tensor_labels = torch.tensor(labels)\n",
    "    tensor_features = torch.tensor(features)\n",
    "    \n",
    "    dataset = TensorDataset(tensor_features, tensor_labels)\n",
    "    \n",
    "    tensor_dataloader = DataLoader(dataset, batch_size=batch_size, \n",
    "                                   sampler=ImbalancedDatasetSampler(dataset, labels))\n",
    "    \n",
    "    return tensor_dataloader"
   ]
  },
  {
   "cell_type": "code",
   "execution_count": 8,
   "metadata": {},
   "outputs": [],
   "source": [
    "data_dir = \"./data/\"\n",
    "# train_loader = get_data_loader(24, data_dir, \"Train.csv\")\n",
    "# train_loader2 = get_data_imbalanced_loader(24, data_dir, \"Train.csv\")\n"
   ]
  },
  {
   "cell_type": "code",
   "execution_count": 10,
   "metadata": {},
   "outputs": [
    {
     "name": "stdout",
     "output_type": "stream",
     "text": [
      "Get data loader\n"
     ]
    }
   ],
   "source": [
    "train_data_loader = get_data_imbalanced_loader(24, \"./data\", 'x_train_scaled_filt.txt', 'y_train.csv')"
   ]
  },
  {
   "cell_type": "code",
   "execution_count": 11,
   "metadata": {},
   "outputs": [
    {
     "name": "stdout",
     "output_type": "stream",
     "text": [
      "[2022-03-06 14:19:21.997 pytorch-1-6-gpu-py3-ml-g4dn-xlarge-594def216eaae0b31fbf025840e5:1007 INFO utils.py:27] RULE_JOB_STOP_SIGNAL_FILENAME: None\n",
      "[2022-03-06 14:19:22.082 pytorch-1-6-gpu-py3-ml-g4dn-xlarge-594def216eaae0b31fbf025840e5:1007 INFO profiler_config_parser.py:102] Unable to find config at /opt/ml/input/config/profilerconfig.json. Profiler is disabled.\n",
      "torch.Size([24, 3197, 2])\n",
      "torch.Size([24])\n"
     ]
    }
   ],
   "source": [
    "batch = next(iter(train_data_loader))\n",
    "print(batch[0].shape)\n",
    "print(batch[1].shape)"
   ]
  },
  {
   "cell_type": "code",
   "execution_count": 12,
   "metadata": {},
   "outputs": [
    {
     "name": "stdout",
     "output_type": "stream",
     "text": [
      "torch.Size([24, 3197, 2])\n",
      "torch.Size([32, 2, 3197])\n"
     ]
    }
   ],
   "source": [
    "### With 1D data and no channel, we will need to add a channel on a new axis\n",
    "batch_1 = batch[0]\n",
    "print(batch_1.size())\n",
    "input = torch.randn(32, 3197,2)\n",
    "#### Rearrange the data as batch_size x channels x features\n",
    "print(input.view(input.shape[0], input.shape[2], input.shape[1]).size())"
   ]
  },
  {
   "cell_type": "code",
   "execution_count": 15,
   "metadata": {},
   "outputs": [
    {
     "name": "stdout",
     "output_type": "stream",
     "text": [
      "torch.Size([24, 6, 1065])\n",
      "torch.Size([24, 16, 354])\n",
      "torch.Size([24, 32, 117])\n",
      "torch.Size([24, 64, 38])\n",
      "2432\n"
     ]
    }
   ],
   "source": [
    "### Test the CNN, MaxPooling, and BatchNorm Layers on a batch of data\n",
    "m = nn.Conv1d(2,6, 3)\n",
    "input_view = batch_1.view(batch_1.shape[0], batch_1.shape[2], batch_1.shape[1])\n",
    "output = F.max_pool1d(F.relu(m(input_view.float())), 3)\n",
    "# print(output.size())\n",
    "print(output.size())\n",
    "# print(20*16*48)\n",
    "norm = nn.BatchNorm1d(6)\n",
    "output = norm(output)\n",
    "m2 = nn.Conv1d(6, 16, 3)\n",
    "output =F.max_pool1d(F.relu(m2(output.float())), 3)\n",
    "norm = nn.BatchNorm1d(16)\n",
    "output = norm(output)\n",
    "print(output.size())\n",
    "m3 = nn.Conv1d(16, 32, 3)\n",
    "output =F.max_pool1d(F.relu(m3(output.float())), 3)\n",
    "norm = nn.BatchNorm1d(32)\n",
    "output = norm(output)\n",
    "print(output.size())\n",
    "m4 = nn.Conv1d(32, 64, 3)\n",
    "output =F.max_pool1d(F.relu(m4(output.float())), 3)\n",
    "norm = nn.BatchNorm1d(64)\n",
    "output = norm(output)\n",
    "print(output.size())\n",
    "# output.view(-1).size()\n",
    "print(64 * 38)"
   ]
  },
  {
   "cell_type": "code",
   "execution_count": null,
   "metadata": {},
   "outputs": [],
   "source": [
    "### Test the CNN, MaxPooling, and BatchNorm Layers on a batch of data\n",
    "m = nn.Conv1d(2,6, 3)\n",
    "input_view = batch_1.view(batch_1.shape[0], batch_1.shape[2], batch_1.shape[1])\n",
    "output = F.max_pool1d(F.relu(m(input_view.float())), 3)\n",
    "# print(output.size())\n",
    "print(output.size())\n",
    "print(20*16*48)\n",
    "norm = nn.BatchNorm1d(6)\n",
    "output = norm(output)\n",
    "m2 = nn.Conv1d(6, 16, 3)\n",
    "output =F.max_pool1d(F.relu(m2(output.float())), 3)\n",
    "norm = nn.BatchNorm1d(16)\n",
    "output = norm(output)\n",
    "print(output.size())\n",
    "# output.view(-1).size()\n",
    "print(16 * 354)"
   ]
  },
  {
   "cell_type": "code",
   "execution_count": 78,
   "metadata": {},
   "outputs": [],
   "source": [
    "class CNN(nn.Module):\n",
    "    def __init__(self):\n",
    "        super(CNN, self).__init__()\n",
    "        self.conv1 = nn.Conv1d(2, 6, 3)\n",
    "        self.b_norm1 = nn.BatchNorm1d(6)\n",
    "        self.conv2 = nn.Conv1d(6, 16, 3)\n",
    "        self.b_norm2 = nn.BatchNorm1d(16)\n",
    "        self.fc1 = nn.Linear(16 * 354, 500)\n",
    "        self.fc2 = nn.Linear(500, 64)\n",
    "        self.fc3 = nn.Linear(64, 1)\n",
    "        \n",
    "    def forward(self, x):\n",
    "        # Transform the input shape of the batch \n",
    "        x = x.view(x.shape[0], x.shape[2], x.shape[1])\n",
    "        x = F.max_pool1d(F.relu(self.conv1(x)), 3)\n",
    "        x = self.b_norm1(x) \n",
    "        x = F.max_pool1d(F.relu(self.conv2(x)), 3)\n",
    "        x = self.b_norm2(x)\n",
    "        x = x.view(-1, 16 * 354)\n",
    "        x = F.relu(self.fc1(x))\n",
    "        x = F.relu(self.fc2(x))\n",
    "        x = torch.sigmoid(self.fc3(x))\n",
    "        \n",
    "        return x"
   ]
  },
  {
   "cell_type": "code",
   "execution_count": 79,
   "metadata": {},
   "outputs": [
    {
     "name": "stdout",
     "output_type": "stream",
     "text": [
      "torch.Size([24, 3197, 2])\n"
     ]
    },
    {
     "data": {
      "text/plain": [
       "torch.Size([24, 1])"
      ]
     },
     "execution_count": 79,
     "metadata": {},
     "output_type": "execute_result"
    }
   ],
   "source": [
    "cnn = CNN()\n",
    "print(batch[0].size())\n",
    "out = cnn(batch[0].float())\n",
    "out.size()"
   ]
  },
  {
   "cell_type": "code",
   "execution_count": 124,
   "metadata": {
    "collapsed": true,
    "jupyter": {
     "outputs_hidden": true
    }
   },
   "outputs": [
    {
     "data": {
      "text/plain": [
       "tensor([[0.4995],\n",
       "        [0.4865],\n",
       "        [0.4841],\n",
       "        [0.4910],\n",
       "        [0.4861],\n",
       "        [0.4916],\n",
       "        [0.5011],\n",
       "        [0.4865],\n",
       "        [0.4835],\n",
       "        [0.5023],\n",
       "        [0.4832],\n",
       "        [0.5041],\n",
       "        [0.4940],\n",
       "        [0.4831],\n",
       "        [0.4810],\n",
       "        [0.4656],\n",
       "        [0.5133],\n",
       "        [0.4834],\n",
       "        [0.4973],\n",
       "        [0.4832],\n",
       "        [0.4832],\n",
       "        [0.4861],\n",
       "        [0.5124],\n",
       "        [0.5927]], grad_fn=<SigmoidBackward>)"
      ]
     },
     "execution_count": 124,
     "metadata": {},
     "output_type": "execute_result"
    }
   ],
   "source": [
    "out"
   ]
  },
  {
   "cell_type": "code",
   "execution_count": 168,
   "metadata": {},
   "outputs": [],
   "source": [
    "class BinaryClassifier(nn.Module):\n",
    "    def __init__(self):\n",
    "        super(BinaryClassifier, self).__init__()\n",
    "        self.l_1 = nn.Linear(3197, 5000)\n",
    "        self.l_2 = nn.Linear(5000, 10000)\n",
    "        self.l_3 = nn.Linear(10000, 5000)\n",
    "        self.l_4 = nn.Linear(5000, 2500)\n",
    "        self.l_5 = nn.Linear(2500, 250)\n",
    "        self.l_6 = nn.Linear(250, 1)\n",
    "\n",
    "        \n",
    "    def forward(self, x):\n",
    "        x = F.relu(self.l_1(x))\n",
    "        x = F.relu(self.l_2(x))\n",
    "        x = F.relu(self.l_3(x))\n",
    "        x = F.relu(self.l_4(x))\n",
    "        x = F.relu(self.l_5(x))\n",
    "        x = torch.sigmoid(self.l_6(x))\n",
    "        return  x"
   ]
  },
  {
   "cell_type": "code",
   "execution_count": 169,
   "metadata": {},
   "outputs": [],
   "source": [
    "class ShallowBinaryClassifier(nn.Module):\n",
    "    def __init__(self):\n",
    "        super(ShallowBinaryClassifier, self).__init__()\n",
    "        self.l_1 = nn.Linear(3197, 5000)\n",
    "        self.b_norm1 = nn.BatchNorm1d(5000)\n",
    "        self.l_2 = nn.Linear(5000, 1)\n",
    "\n",
    "        \n",
    "    def forward(self, x):\n",
    "        x = F.relu(self.l_1(x))\n",
    "        x = F.relu(self.b_norm1(x))\n",
    "        x = torch.sigmoid(self.l_2(x))\n",
    "        return  x"
   ]
  },
  {
   "cell_type": "code",
   "execution_count": 34,
   "metadata": {},
   "outputs": [
    {
     "data": {
      "text/plain": [
       "torch.Size([24, 3197])"
      ]
     },
     "execution_count": 34,
     "metadata": {},
     "output_type": "execute_result"
    }
   ],
   "source": [
    "first_batch = next(iter(train_loader))\n",
    "first_batch[0]\n",
    "first_batch[0].size()"
   ]
  },
  {
   "cell_type": "code",
   "execution_count": 72,
   "metadata": {},
   "outputs": [],
   "source": [
    "bin_class = BinaryClassifier()"
   ]
  },
  {
   "cell_type": "code",
   "execution_count": 133,
   "metadata": {},
   "outputs": [
    {
     "data": {
      "text/plain": [
       "ShallowBinaryClassifier(\n",
       "  (l_1): Linear(in_features=3197, out_features=5000, bias=True)\n",
       "  (b_norm1): BatchNorm1d(5000, eps=1e-05, momentum=0.1, affine=True, track_running_stats=True)\n",
       "  (l_2): Linear(in_features=5000, out_features=1, bias=True)\n",
       ")"
      ]
     },
     "execution_count": 133,
     "metadata": {},
     "output_type": "execute_result"
    }
   ],
   "source": [
    "shallow_bin_class = ShallowBinaryClassifier()\n",
    "shallow_bin_class"
   ]
  },
  {
   "cell_type": "code",
   "execution_count": 22,
   "metadata": {
    "collapsed": true,
    "jupyter": {
     "outputs_hidden": true
    }
   },
   "outputs": [
    {
     "ename": "RuntimeError",
     "evalue": "CUDA error: an illegal memory access was encountered",
     "output_type": "error",
     "traceback": [
      "\u001b[0;31m---------------------------------------------------------------------------\u001b[0m",
      "\u001b[0;31mRuntimeError\u001b[0m                              Traceback (most recent call last)",
      "\u001b[0;32m<ipython-input-22-a8500d627c85>\u001b[0m in \u001b[0;36m<module>\u001b[0;34m\u001b[0m\n\u001b[0;32m----> 1\u001b[0;31m \u001b[0msummary\u001b[0m\u001b[0;34m(\u001b[0m\u001b[0mbin_class\u001b[0m\u001b[0;34m,\u001b[0m \u001b[0;34m(\u001b[0m\u001b[0;36m1\u001b[0m\u001b[0;34m,\u001b[0m \u001b[0;36m3197\u001b[0m\u001b[0;34m)\u001b[0m\u001b[0;34m)\u001b[0m\u001b[0;34m\u001b[0m\u001b[0;34m\u001b[0m\u001b[0m\n\u001b[0m",
      "\u001b[0;32m/opt/conda/lib/python3.6/site-packages/torchsummary/torchsummary.py\u001b[0m in \u001b[0;36msummary\u001b[0;34m(model, input_size, batch_size, device)\u001b[0m\n\u001b[1;32m     58\u001b[0m \u001b[0;34m\u001b[0m\u001b[0m\n\u001b[1;32m     59\u001b[0m     \u001b[0;31m# batch_size of 2 for batchnorm\u001b[0m\u001b[0;34m\u001b[0m\u001b[0;34m\u001b[0m\u001b[0;34m\u001b[0m\u001b[0m\n\u001b[0;32m---> 60\u001b[0;31m     \u001b[0mx\u001b[0m \u001b[0;34m=\u001b[0m \u001b[0;34m[\u001b[0m\u001b[0mtorch\u001b[0m\u001b[0;34m.\u001b[0m\u001b[0mrand\u001b[0m\u001b[0;34m(\u001b[0m\u001b[0;36m2\u001b[0m\u001b[0;34m,\u001b[0m \u001b[0;34m*\u001b[0m\u001b[0min_size\u001b[0m\u001b[0;34m)\u001b[0m\u001b[0;34m.\u001b[0m\u001b[0mtype\u001b[0m\u001b[0;34m(\u001b[0m\u001b[0mdtype\u001b[0m\u001b[0;34m)\u001b[0m \u001b[0;32mfor\u001b[0m \u001b[0min_size\u001b[0m \u001b[0;32min\u001b[0m \u001b[0minput_size\u001b[0m\u001b[0;34m]\u001b[0m\u001b[0;34m\u001b[0m\u001b[0;34m\u001b[0m\u001b[0m\n\u001b[0m\u001b[1;32m     61\u001b[0m     \u001b[0;31m# print(type(x[0]))\u001b[0m\u001b[0;34m\u001b[0m\u001b[0;34m\u001b[0m\u001b[0;34m\u001b[0m\u001b[0m\n\u001b[1;32m     62\u001b[0m \u001b[0;34m\u001b[0m\u001b[0m\n",
      "\u001b[0;32m/opt/conda/lib/python3.6/site-packages/torchsummary/torchsummary.py\u001b[0m in \u001b[0;36m<listcomp>\u001b[0;34m(.0)\u001b[0m\n\u001b[1;32m     58\u001b[0m \u001b[0;34m\u001b[0m\u001b[0m\n\u001b[1;32m     59\u001b[0m     \u001b[0;31m# batch_size of 2 for batchnorm\u001b[0m\u001b[0;34m\u001b[0m\u001b[0;34m\u001b[0m\u001b[0;34m\u001b[0m\u001b[0m\n\u001b[0;32m---> 60\u001b[0;31m     \u001b[0mx\u001b[0m \u001b[0;34m=\u001b[0m \u001b[0;34m[\u001b[0m\u001b[0mtorch\u001b[0m\u001b[0;34m.\u001b[0m\u001b[0mrand\u001b[0m\u001b[0;34m(\u001b[0m\u001b[0;36m2\u001b[0m\u001b[0;34m,\u001b[0m \u001b[0;34m*\u001b[0m\u001b[0min_size\u001b[0m\u001b[0;34m)\u001b[0m\u001b[0;34m.\u001b[0m\u001b[0mtype\u001b[0m\u001b[0;34m(\u001b[0m\u001b[0mdtype\u001b[0m\u001b[0;34m)\u001b[0m \u001b[0;32mfor\u001b[0m \u001b[0min_size\u001b[0m \u001b[0;32min\u001b[0m \u001b[0minput_size\u001b[0m\u001b[0;34m]\u001b[0m\u001b[0;34m\u001b[0m\u001b[0;34m\u001b[0m\u001b[0m\n\u001b[0m\u001b[1;32m     61\u001b[0m     \u001b[0;31m# print(type(x[0]))\u001b[0m\u001b[0;34m\u001b[0m\u001b[0;34m\u001b[0m\u001b[0;34m\u001b[0m\u001b[0m\n\u001b[1;32m     62\u001b[0m \u001b[0;34m\u001b[0m\u001b[0m\n",
      "\u001b[0;31mRuntimeError\u001b[0m: CUDA error: an illegal memory access was encountered"
     ]
    }
   ],
   "source": [
    "# summary(bin_class, (1, 3197))"
   ]
  },
  {
   "cell_type": "code",
   "execution_count": 73,
   "metadata": {},
   "outputs": [
    {
     "name": "stdout",
     "output_type": "stream",
     "text": [
      "BinaryClassifier(\n",
      "  (l_1): Linear(in_features=3197, out_features=5000, bias=True)\n",
      "  (l_2): Linear(in_features=5000, out_features=10000, bias=True)\n",
      "  (l_3): Linear(in_features=10000, out_features=5000, bias=True)\n",
      "  (l_4): Linear(in_features=5000, out_features=2500, bias=True)\n",
      "  (l_5): Linear(in_features=2500, out_features=250, bias=True)\n",
      "  (l_6): Linear(in_features=250, out_features=1, bias=True)\n",
      ")\n"
     ]
    }
   ],
   "source": [
    "print(bin_class)"
   ]
  },
  {
   "cell_type": "code",
   "execution_count": 198,
   "metadata": {},
   "outputs": [],
   "source": [
    "def train_model(args):\n",
    "    \n",
    "    use_cuda = args.num_gpus > 0\n",
    "    device = torch.device(\"cuda\" if use_cuda else \"cpu\")\n",
    "    \n",
    "    # Set the seed\n",
    "    torch.manual_seed(args.seed)\n",
    "    \n",
    "    if use_cuda:\n",
    "        torch.cuda.manual_seed(args.seed)\n",
    "        \n",
    "    train_loader = get_data_imbalanced_loader(args.batch_size, args.data_dir, args.train_file)\n",
    "    test_loader = get_data_loader(args.batch_size, args.data_dir, args.test_file)\n",
    "    \n",
    "    model = args.model\n",
    "    model = model.to(device)\n",
    "    \n",
    "    criterion = nn.BCEWithLogitsLoss()\n",
    "    optimizer = optim.Adam(model.parameters(), lr=args.lr)\n",
    "    \n",
    "    for epoch in range(1, args.epochs + 1):\n",
    "        \n",
    "        total_loss = 0\n",
    "        model.train()\n",
    "        \n",
    "        for step, batch in enumerate(train_loader):\n",
    "            feats = batch[0].to(device)\n",
    "            labels = batch[1].to(device)\n",
    "            \n",
    "            model.zero_grad()\n",
    "#             logger.info(f\"feats size {feats.size()}\")\n",
    "            \n",
    "            outputs = model(feats.float())\n",
    "#             logger.info(f\"outputs size {outputs.size()}\")\n",
    "            loss = criterion(torch.squeeze(outputs, 1).float(), labels.float())\n",
    "            total_loss += loss\n",
    "            \n",
    "            loss.backward()\n",
    "            torch.nn.utils.clip_grad_norm_(model.parameters(), 1.0) \n",
    "            optimizer.step()\n",
    "            \n",
    "            if step % args.log_interval == 0: \n",
    "                logger.info( \n",
    "                    \"Train Epoch: {} [{}/{} ({:.0f}%)] Loss: {:.6f}\".format( \n",
    "                        epoch, \n",
    "                        step * len(batch[0]), \n",
    "                        len(train_loader.sampler), \n",
    "                        100.0 * step / len(train_loader), \n",
    "                        loss.item(), \n",
    "                    ) \n",
    "                ) \n",
    "        logger.info(\"Average training loss: %f\\n\", total_loss / len(train_loader)) \n",
    "        test(model, test_loader, device)\n",
    "    \n",
    "    logger.info(\"Saving tuned model\")\n",
    "    \n",
    "    model_2_save = model.module if hasattr(model, \"module\") else model \n",
    "     # ... train `model`, then save it to `model_dir`\n",
    "    with open(os.path.join(args.model_dir, f'{args.model_name}.pth'), 'wb') as f:\n",
    "        torch.save(model.state_dict(), f)\n",
    "        \n",
    "    return model"
   ]
  },
  {
   "cell_type": "code",
   "execution_count": 179,
   "metadata": {},
   "outputs": [],
   "source": [
    "def test(model, test_loader, device):\n",
    "    \n",
    "    def get_correct_count(preds, labels): \n",
    "        pred_flat = np.round(preds,0).flatten() \n",
    "        labels_flat = labels.flatten() \n",
    "        return np.sum(pred_flat == labels_flat), len(labels_flat) \n",
    "\n",
    "    model.eval() \n",
    "    _, eval_accuracy = 0, 0 \n",
    "    total_correct = 0 \n",
    "    total_count = 0 \n",
    "\n",
    "\n",
    "    with torch.no_grad(): \n",
    "        for batch in test_loader: \n",
    "\n",
    "            b_input_ids = batch[0].to(device) \n",
    "            b_labels = batch[1].to(device) \n",
    "\n",
    "            outputs = model(b_input_ids.float()) \n",
    "#             preds = outputs[0] \n",
    "            preds = outputs.detach().cpu().numpy() \n",
    "            label_ids = b_labels.to(\"cpu\").numpy() \n",
    "                         \n",
    "\n",
    "            num_correct, num_count = get_correct_count(preds, label_ids) \n",
    "            total_correct += num_correct \n",
    "            total_count += num_count \n",
    "    logger.info(\"Test set: Accuracy: %f\\n\", total_correct/total_count) \n"
   ]
  },
  {
   "cell_type": "code",
   "execution_count": 180,
   "metadata": {},
   "outputs": [],
   "source": [
    "def predict(model, test_loader, device):\n",
    "    predictions = []\n",
    "    \n",
    "    with torch.no_grad(): \n",
    "        for i, batch in enumerate(test_loader): \n",
    "            b_input_ids = batch[0].to(device) \n",
    "\n",
    "            outputs = model(b_input_ids.float()) \n",
    "            preds = outputs.detach().cpu().numpy() \n",
    "            pred_flat = np.round(preds,0).flatten() \n",
    "            predictions.append(pred_flat)\n",
    "            \n",
    "    return predictions"
   ]
  },
  {
   "cell_type": "markdown",
   "metadata": {},
   "source": [
    "### Train the Deep Linear Classifier"
   ]
  },
  {
   "cell_type": "code",
   "execution_count": 218,
   "metadata": {
    "collapsed": true,
    "jupyter": {
     "outputs_hidden": true
    }
   },
   "outputs": [
    {
     "name": "stdout",
     "output_type": "stream",
     "text": [
      "Get data loader\n",
      "Get data loader\n",
      "Get data loader\n"
     ]
    },
    {
     "name": "stderr",
     "output_type": "stream",
     "text": [
      "INFO:__main__:Get data loader\n"
     ]
    },
    {
     "name": "stdout",
     "output_type": "stream",
     "text": [
      "Get data loader\n",
      "Get data loader\n",
      "Get data loader\n"
     ]
    },
    {
     "name": "stderr",
     "output_type": "stream",
     "text": [
      "INFO:__main__:Get data loader\n"
     ]
    },
    {
     "name": "stdout",
     "output_type": "stream",
     "text": [
      "Train Epoch: 1 [0/5087 (0%)] Loss: 0.791738\n",
      "Train Epoch: 1 [0/5087 (0%)] Loss: 0.791738\n",
      "Train Epoch: 1 [0/5087 (0%)] Loss: 0.791738\n"
     ]
    },
    {
     "name": "stderr",
     "output_type": "stream",
     "text": [
      "INFO:__main__:Train Epoch: 1 [0/5087 (0%)] Loss: 0.791738\n"
     ]
    },
    {
     "name": "stdout",
     "output_type": "stream",
     "text": [
      "Train Epoch: 1 [1200/5087 (24%)] Loss: 0.598879\n",
      "Train Epoch: 1 [1200/5087 (24%)] Loss: 0.598879\n",
      "Train Epoch: 1 [1200/5087 (24%)] Loss: 0.598879\n"
     ]
    },
    {
     "name": "stderr",
     "output_type": "stream",
     "text": [
      "INFO:__main__:Train Epoch: 1 [1200/5087 (24%)] Loss: 0.598879\n"
     ]
    },
    {
     "name": "stdout",
     "output_type": "stream",
     "text": [
      "Train Epoch: 1 [2400/5087 (47%)] Loss: 0.598318\n",
      "Train Epoch: 1 [2400/5087 (47%)] Loss: 0.598318\n",
      "Train Epoch: 1 [2400/5087 (47%)] Loss: 0.598318\n"
     ]
    },
    {
     "name": "stderr",
     "output_type": "stream",
     "text": [
      "INFO:__main__:Train Epoch: 1 [2400/5087 (47%)] Loss: 0.598318\n"
     ]
    },
    {
     "name": "stdout",
     "output_type": "stream",
     "text": [
      "Train Epoch: 1 [3600/5087 (71%)] Loss: 0.535859\n",
      "Train Epoch: 1 [3600/5087 (71%)] Loss: 0.535859\n",
      "Train Epoch: 1 [3600/5087 (71%)] Loss: 0.535859\n"
     ]
    },
    {
     "name": "stderr",
     "output_type": "stream",
     "text": [
      "INFO:__main__:Train Epoch: 1 [3600/5087 (71%)] Loss: 0.535859\n"
     ]
    },
    {
     "name": "stdout",
     "output_type": "stream",
     "text": [
      "Train Epoch: 1 [4800/5087 (94%)] Loss: 0.645709\n",
      "Train Epoch: 1 [4800/5087 (94%)] Loss: 0.645709\n",
      "Train Epoch: 1 [4800/5087 (94%)] Loss: 0.645709\n"
     ]
    },
    {
     "name": "stderr",
     "output_type": "stream",
     "text": [
      "INFO:__main__:Train Epoch: 1 [4800/5087 (94%)] Loss: 0.645709\n"
     ]
    },
    {
     "name": "stdout",
     "output_type": "stream",
     "text": [
      "Average training loss: 0.590951\n",
      "\n",
      "Average training loss: 0.590951\n",
      "\n",
      "Average training loss: 0.590951\n",
      "\n"
     ]
    },
    {
     "name": "stderr",
     "output_type": "stream",
     "text": [
      "INFO:__main__:Average training loss: 0.590951\n",
      "\n"
     ]
    },
    {
     "name": "stdout",
     "output_type": "stream",
     "text": [
      "Test set: Accuracy: 0.991228\n",
      "\n",
      "Test set: Accuracy: 0.991228\n",
      "\n",
      "Test set: Accuracy: 0.991228\n",
      "\n"
     ]
    },
    {
     "name": "stderr",
     "output_type": "stream",
     "text": [
      "INFO:__main__:Test set: Accuracy: 0.991228\n",
      "\n"
     ]
    },
    {
     "name": "stdout",
     "output_type": "stream",
     "text": [
      "Train Epoch: 2 [0/5087 (0%)] Loss: 0.598176\n",
      "Train Epoch: 2 [0/5087 (0%)] Loss: 0.598176\n",
      "Train Epoch: 2 [0/5087 (0%)] Loss: 0.598176\n"
     ]
    },
    {
     "name": "stderr",
     "output_type": "stream",
     "text": [
      "INFO:__main__:Train Epoch: 2 [0/5087 (0%)] Loss: 0.598176\n"
     ]
    },
    {
     "name": "stdout",
     "output_type": "stream",
     "text": [
      "Train Epoch: 2 [1200/5087 (24%)] Loss: 0.473193\n",
      "Train Epoch: 2 [1200/5087 (24%)] Loss: 0.473193\n",
      "Train Epoch: 2 [1200/5087 (24%)] Loss: 0.473193\n"
     ]
    },
    {
     "name": "stderr",
     "output_type": "stream",
     "text": [
      "INFO:__main__:Train Epoch: 2 [1200/5087 (24%)] Loss: 0.473193\n"
     ]
    },
    {
     "name": "stdout",
     "output_type": "stream",
     "text": [
      "Train Epoch: 2 [2400/5087 (47%)] Loss: 0.566519\n",
      "Train Epoch: 2 [2400/5087 (47%)] Loss: 0.566519\n",
      "Train Epoch: 2 [2400/5087 (47%)] Loss: 0.566519\n"
     ]
    },
    {
     "name": "stderr",
     "output_type": "stream",
     "text": [
      "INFO:__main__:Train Epoch: 2 [2400/5087 (47%)] Loss: 0.566519\n"
     ]
    },
    {
     "name": "stdout",
     "output_type": "stream",
     "text": [
      "Train Epoch: 2 [3600/5087 (71%)] Loss: 0.550696\n",
      "Train Epoch: 2 [3600/5087 (71%)] Loss: 0.550696\n",
      "Train Epoch: 2 [3600/5087 (71%)] Loss: 0.550696\n"
     ]
    },
    {
     "name": "stderr",
     "output_type": "stream",
     "text": [
      "INFO:__main__:Train Epoch: 2 [3600/5087 (71%)] Loss: 0.550696\n"
     ]
    },
    {
     "name": "stdout",
     "output_type": "stream",
     "text": [
      "Train Epoch: 2 [4800/5087 (94%)] Loss: 0.503205\n",
      "Train Epoch: 2 [4800/5087 (94%)] Loss: 0.503205\n",
      "Train Epoch: 2 [4800/5087 (94%)] Loss: 0.503205\n"
     ]
    },
    {
     "name": "stderr",
     "output_type": "stream",
     "text": [
      "INFO:__main__:Train Epoch: 2 [4800/5087 (94%)] Loss: 0.503205\n"
     ]
    },
    {
     "name": "stdout",
     "output_type": "stream",
     "text": [
      "Average training loss: 0.578270\n",
      "\n",
      "Average training loss: 0.578270\n",
      "\n",
      "Average training loss: 0.578270\n",
      "\n"
     ]
    },
    {
     "name": "stderr",
     "output_type": "stream",
     "text": [
      "INFO:__main__:Average training loss: 0.578270\n",
      "\n"
     ]
    },
    {
     "name": "stdout",
     "output_type": "stream",
     "text": [
      "Test set: Accuracy: 0.989474\n",
      "\n",
      "Test set: Accuracy: 0.989474\n",
      "\n",
      "Test set: Accuracy: 0.989474\n",
      "\n"
     ]
    },
    {
     "name": "stderr",
     "output_type": "stream",
     "text": [
      "INFO:__main__:Test set: Accuracy: 0.989474\n",
      "\n"
     ]
    },
    {
     "name": "stdout",
     "output_type": "stream",
     "text": [
      "Train Epoch: 3 [0/5087 (0%)] Loss: 0.566519\n",
      "Train Epoch: 3 [0/5087 (0%)] Loss: 0.566519\n",
      "Train Epoch: 3 [0/5087 (0%)] Loss: 0.566519\n"
     ]
    },
    {
     "name": "stderr",
     "output_type": "stream",
     "text": [
      "INFO:__main__:Train Epoch: 3 [0/5087 (0%)] Loss: 0.566519\n"
     ]
    },
    {
     "name": "stdout",
     "output_type": "stream",
     "text": [
      "Train Epoch: 3 [1200/5087 (24%)] Loss: 0.645693\n",
      "Train Epoch: 3 [1200/5087 (24%)] Loss: 0.645693\n",
      "Train Epoch: 3 [1200/5087 (24%)] Loss: 0.645693\n"
     ]
    },
    {
     "name": "stderr",
     "output_type": "stream",
     "text": [
      "INFO:__main__:Train Epoch: 3 [1200/5087 (24%)] Loss: 0.645693\n"
     ]
    },
    {
     "name": "stdout",
     "output_type": "stream",
     "text": [
      "Train Epoch: 3 [2400/5087 (47%)] Loss: 0.598176\n",
      "Train Epoch: 3 [2400/5087 (47%)] Loss: 0.598176\n",
      "Train Epoch: 3 [2400/5087 (47%)] Loss: 0.598176\n"
     ]
    },
    {
     "name": "stderr",
     "output_type": "stream",
     "text": [
      "INFO:__main__:Train Epoch: 3 [2400/5087 (47%)] Loss: 0.598176\n"
     ]
    },
    {
     "name": "stdout",
     "output_type": "stream",
     "text": [
      "Train Epoch: 3 [3600/5087 (71%)] Loss: 0.519076\n",
      "Train Epoch: 3 [3600/5087 (71%)] Loss: 0.519076\n",
      "Train Epoch: 3 [3600/5087 (71%)] Loss: 0.519076\n"
     ]
    },
    {
     "name": "stderr",
     "output_type": "stream",
     "text": [
      "INFO:__main__:Train Epoch: 3 [3600/5087 (71%)] Loss: 0.519076\n"
     ]
    },
    {
     "name": "stdout",
     "output_type": "stream",
     "text": [
      "Train Epoch: 3 [4800/5087 (94%)] Loss: 0.566519\n",
      "Train Epoch: 3 [4800/5087 (94%)] Loss: 0.566519\n",
      "Train Epoch: 3 [4800/5087 (94%)] Loss: 0.566519\n"
     ]
    },
    {
     "name": "stderr",
     "output_type": "stream",
     "text": [
      "INFO:__main__:Train Epoch: 3 [4800/5087 (94%)] Loss: 0.566519\n"
     ]
    },
    {
     "name": "stdout",
     "output_type": "stream",
     "text": [
      "Average training loss: 0.572857\n",
      "\n",
      "Average training loss: 0.572857\n",
      "\n",
      "Average training loss: 0.572857\n",
      "\n"
     ]
    },
    {
     "name": "stderr",
     "output_type": "stream",
     "text": [
      "INFO:__main__:Average training loss: 0.572857\n",
      "\n"
     ]
    },
    {
     "name": "stdout",
     "output_type": "stream",
     "text": [
      "Test set: Accuracy: 0.991228\n",
      "\n",
      "Test set: Accuracy: 0.991228\n",
      "\n",
      "Test set: Accuracy: 0.991228\n",
      "\n"
     ]
    },
    {
     "name": "stderr",
     "output_type": "stream",
     "text": [
      "INFO:__main__:Test set: Accuracy: 0.991228\n",
      "\n"
     ]
    },
    {
     "name": "stdout",
     "output_type": "stream",
     "text": [
      "Saving tuned model\n",
      "Saving tuned model\n",
      "Saving tuned model\n"
     ]
    },
    {
     "name": "stderr",
     "output_type": "stream",
     "text": [
      "INFO:__main__:Saving tuned model\n"
     ]
    }
   ],
   "source": [
    "bin_class = BinaryClassifier()\n",
    "args = SimpleNamespace(\n",
    "    batch_size=24,\n",
    "    test_batch_size=16,\n",
    "    epochs=3,\n",
    "    lr=2e-5,\n",
    "    seed=1,\n",
    "    model=bin_class,\n",
    "    log_interval =50,\n",
    "    model_dir = \"model/\", \n",
    "    model_name=\"binary_classifier_3_24\",\n",
    "    data_dir=\"./data/\", \n",
    "    num_gpus=1, \n",
    "    train_file = \"Train.csv\", \n",
    "    test_file=\"Test.csv\"\n",
    ")\n",
    "\n",
    "bin_class_model = train_model(args)"
   ]
  },
  {
   "cell_type": "code",
   "execution_count": 217,
   "metadata": {},
   "outputs": [
    {
     "name": "stdout",
     "output_type": "stream",
     "text": [
      "Get data loader\n",
      "Get data loader\n",
      "Get data loader\n"
     ]
    },
    {
     "name": "stderr",
     "output_type": "stream",
     "text": [
      "INFO:__main__:Get data loader\n"
     ]
    }
   ],
   "source": [
    "test_loader2 = get_data_imbalanced_loader(16, data_dir, \"Test.csv\")"
   ]
  },
  {
   "cell_type": "code",
   "execution_count": 219,
   "metadata": {},
   "outputs": [],
   "source": [
    "device = torch.device('cuda')\n",
    "test_preds = predict(bin_class_model, test_loader2, device)"
   ]
  },
  {
   "cell_type": "code",
   "execution_count": 220,
   "metadata": {},
   "outputs": [
    {
     "data": {
      "text/plain": [
       "0"
      ]
     },
     "execution_count": 220,
     "metadata": {},
     "output_type": "execute_result"
    }
   ],
   "source": [
    "test_preds = np.concatenate(test_preds)\n",
    "(test_preds == 1).sum()"
   ]
  },
  {
   "cell_type": "code",
   "execution_count": 221,
   "metadata": {},
   "outputs": [
    {
     "data": {
      "text/plain": [
       "570"
      ]
     },
     "execution_count": 221,
     "metadata": {},
     "output_type": "execute_result"
    }
   ],
   "source": [
    "(test_preds == 0).sum()"
   ]
  },
  {
   "cell_type": "markdown",
   "metadata": {},
   "source": [
    "### Shallow Classifier"
   ]
  },
  {
   "cell_type": "code",
   "execution_count": 222,
   "metadata": {
    "collapsed": true,
    "jupyter": {
     "outputs_hidden": true
    }
   },
   "outputs": [
    {
     "name": "stdout",
     "output_type": "stream",
     "text": [
      "Get data loader\n",
      "Get data loader\n",
      "Get data loader\n"
     ]
    },
    {
     "name": "stderr",
     "output_type": "stream",
     "text": [
      "INFO:__main__:Get data loader\n"
     ]
    },
    {
     "name": "stdout",
     "output_type": "stream",
     "text": [
      "Get data loader\n",
      "Get data loader\n",
      "Get data loader\n"
     ]
    },
    {
     "name": "stderr",
     "output_type": "stream",
     "text": [
      "INFO:__main__:Get data loader\n"
     ]
    },
    {
     "name": "stdout",
     "output_type": "stream",
     "text": [
      "Train Epoch: 1 [0/5087 (0%)] Loss: 0.744201\n",
      "Train Epoch: 1 [0/5087 (0%)] Loss: 0.744201\n",
      "Train Epoch: 1 [0/5087 (0%)] Loss: 0.744201\n"
     ]
    },
    {
     "name": "stderr",
     "output_type": "stream",
     "text": [
      "INFO:__main__:Train Epoch: 1 [0/5087 (0%)] Loss: 0.744201\n"
     ]
    },
    {
     "name": "stdout",
     "output_type": "stream",
     "text": [
      "Train Epoch: 1 [1200/5087 (24%)] Loss: 0.711454\n",
      "Train Epoch: 1 [1200/5087 (24%)] Loss: 0.711454\n",
      "Train Epoch: 1 [1200/5087 (24%)] Loss: 0.711454\n"
     ]
    },
    {
     "name": "stderr",
     "output_type": "stream",
     "text": [
      "INFO:__main__:Train Epoch: 1 [1200/5087 (24%)] Loss: 0.711454\n"
     ]
    },
    {
     "name": "stdout",
     "output_type": "stream",
     "text": [
      "Train Epoch: 1 [2400/5087 (47%)] Loss: 0.625875\n",
      "Train Epoch: 1 [2400/5087 (47%)] Loss: 0.625875\n",
      "Train Epoch: 1 [2400/5087 (47%)] Loss: 0.625875\n"
     ]
    },
    {
     "name": "stderr",
     "output_type": "stream",
     "text": [
      "INFO:__main__:Train Epoch: 1 [2400/5087 (47%)] Loss: 0.625875\n"
     ]
    },
    {
     "name": "stdout",
     "output_type": "stream",
     "text": [
      "Train Epoch: 1 [3600/5087 (71%)] Loss: 0.605738\n",
      "Train Epoch: 1 [3600/5087 (71%)] Loss: 0.605738\n",
      "Train Epoch: 1 [3600/5087 (71%)] Loss: 0.605738\n"
     ]
    },
    {
     "name": "stderr",
     "output_type": "stream",
     "text": [
      "INFO:__main__:Train Epoch: 1 [3600/5087 (71%)] Loss: 0.605738\n"
     ]
    },
    {
     "name": "stdout",
     "output_type": "stream",
     "text": [
      "Train Epoch: 1 [4800/5087 (94%)] Loss: 0.601340\n",
      "Train Epoch: 1 [4800/5087 (94%)] Loss: 0.601340\n",
      "Train Epoch: 1 [4800/5087 (94%)] Loss: 0.601340\n"
     ]
    },
    {
     "name": "stderr",
     "output_type": "stream",
     "text": [
      "INFO:__main__:Train Epoch: 1 [4800/5087 (94%)] Loss: 0.601340\n"
     ]
    },
    {
     "name": "stdout",
     "output_type": "stream",
     "text": [
      "Average training loss: 0.630671\n",
      "\n",
      "Average training loss: 0.630671\n",
      "\n",
      "Average training loss: 0.630671\n",
      "\n"
     ]
    },
    {
     "name": "stderr",
     "output_type": "stream",
     "text": [
      "INFO:__main__:Average training loss: 0.630671\n",
      "\n"
     ]
    },
    {
     "name": "stdout",
     "output_type": "stream",
     "text": [
      "Test set: Accuracy: 0.975439\n",
      "\n",
      "Test set: Accuracy: 0.975439\n",
      "\n",
      "Test set: Accuracy: 0.975439\n",
      "\n"
     ]
    },
    {
     "name": "stderr",
     "output_type": "stream",
     "text": [
      "INFO:__main__:Test set: Accuracy: 0.975439\n",
      "\n"
     ]
    },
    {
     "name": "stdout",
     "output_type": "stream",
     "text": [
      "Train Epoch: 2 [0/5087 (0%)] Loss: 0.601104\n",
      "Train Epoch: 2 [0/5087 (0%)] Loss: 0.601104\n",
      "Train Epoch: 2 [0/5087 (0%)] Loss: 0.601104\n"
     ]
    },
    {
     "name": "stderr",
     "output_type": "stream",
     "text": [
      "INFO:__main__:Train Epoch: 2 [0/5087 (0%)] Loss: 0.601104\n"
     ]
    },
    {
     "name": "stdout",
     "output_type": "stream",
     "text": [
      "Train Epoch: 2 [1200/5087 (24%)] Loss: 0.488614\n",
      "Train Epoch: 2 [1200/5087 (24%)] Loss: 0.488614\n",
      "Train Epoch: 2 [1200/5087 (24%)] Loss: 0.488614\n"
     ]
    },
    {
     "name": "stderr",
     "output_type": "stream",
     "text": [
      "INFO:__main__:Train Epoch: 2 [1200/5087 (24%)] Loss: 0.488614\n"
     ]
    },
    {
     "name": "stdout",
     "output_type": "stream",
     "text": [
      "Train Epoch: 2 [2400/5087 (47%)] Loss: 0.576153\n",
      "Train Epoch: 2 [2400/5087 (47%)] Loss: 0.576153\n",
      "Train Epoch: 2 [2400/5087 (47%)] Loss: 0.576153\n"
     ]
    },
    {
     "name": "stderr",
     "output_type": "stream",
     "text": [
      "INFO:__main__:Train Epoch: 2 [2400/5087 (47%)] Loss: 0.576153\n"
     ]
    },
    {
     "name": "stdout",
     "output_type": "stream",
     "text": [
      "Train Epoch: 2 [3600/5087 (71%)] Loss: 0.537766\n",
      "Train Epoch: 2 [3600/5087 (71%)] Loss: 0.537766\n",
      "Train Epoch: 2 [3600/5087 (71%)] Loss: 0.537766\n"
     ]
    },
    {
     "name": "stderr",
     "output_type": "stream",
     "text": [
      "INFO:__main__:Train Epoch: 2 [3600/5087 (71%)] Loss: 0.537766\n"
     ]
    },
    {
     "name": "stdout",
     "output_type": "stream",
     "text": [
      "Train Epoch: 2 [4800/5087 (94%)] Loss: 0.534903\n",
      "Train Epoch: 2 [4800/5087 (94%)] Loss: 0.534903\n",
      "Train Epoch: 2 [4800/5087 (94%)] Loss: 0.534903\n"
     ]
    },
    {
     "name": "stderr",
     "output_type": "stream",
     "text": [
      "INFO:__main__:Train Epoch: 2 [4800/5087 (94%)] Loss: 0.534903\n"
     ]
    },
    {
     "name": "stdout",
     "output_type": "stream",
     "text": [
      "Average training loss: 0.579052\n",
      "\n",
      "Average training loss: 0.579052\n",
      "\n",
      "Average training loss: 0.579052\n",
      "\n"
     ]
    },
    {
     "name": "stderr",
     "output_type": "stream",
     "text": [
      "INFO:__main__:Average training loss: 0.579052\n",
      "\n"
     ]
    },
    {
     "name": "stdout",
     "output_type": "stream",
     "text": [
      "Test set: Accuracy: 0.985965\n",
      "\n",
      "Test set: Accuracy: 0.985965\n",
      "\n",
      "Test set: Accuracy: 0.985965\n",
      "\n"
     ]
    },
    {
     "name": "stderr",
     "output_type": "stream",
     "text": [
      "INFO:__main__:Test set: Accuracy: 0.985965\n",
      "\n"
     ]
    },
    {
     "name": "stdout",
     "output_type": "stream",
     "text": [
      "Train Epoch: 3 [0/5087 (0%)] Loss: 0.557979\n",
      "Train Epoch: 3 [0/5087 (0%)] Loss: 0.557979\n",
      "Train Epoch: 3 [0/5087 (0%)] Loss: 0.557979\n"
     ]
    },
    {
     "name": "stderr",
     "output_type": "stream",
     "text": [
      "INFO:__main__:Train Epoch: 3 [0/5087 (0%)] Loss: 0.557979\n"
     ]
    },
    {
     "name": "stdout",
     "output_type": "stream",
     "text": [
      "Train Epoch: 3 [1200/5087 (24%)] Loss: 0.641487\n",
      "Train Epoch: 3 [1200/5087 (24%)] Loss: 0.641487\n",
      "Train Epoch: 3 [1200/5087 (24%)] Loss: 0.641487\n"
     ]
    },
    {
     "name": "stderr",
     "output_type": "stream",
     "text": [
      "INFO:__main__:Train Epoch: 3 [1200/5087 (24%)] Loss: 0.641487\n"
     ]
    },
    {
     "name": "stdout",
     "output_type": "stream",
     "text": [
      "Train Epoch: 3 [2400/5087 (47%)] Loss: 0.611014\n",
      "Train Epoch: 3 [2400/5087 (47%)] Loss: 0.611014\n",
      "Train Epoch: 3 [2400/5087 (47%)] Loss: 0.611014\n"
     ]
    },
    {
     "name": "stderr",
     "output_type": "stream",
     "text": [
      "INFO:__main__:Train Epoch: 3 [2400/5087 (47%)] Loss: 0.611014\n"
     ]
    },
    {
     "name": "stdout",
     "output_type": "stream",
     "text": [
      "Train Epoch: 3 [3600/5087 (71%)] Loss: 0.606214\n",
      "Train Epoch: 3 [3600/5087 (71%)] Loss: 0.606214\n",
      "Train Epoch: 3 [3600/5087 (71%)] Loss: 0.606214\n"
     ]
    },
    {
     "name": "stderr",
     "output_type": "stream",
     "text": [
      "INFO:__main__:Train Epoch: 3 [3600/5087 (71%)] Loss: 0.606214\n"
     ]
    },
    {
     "name": "stdout",
     "output_type": "stream",
     "text": [
      "Train Epoch: 3 [4800/5087 (94%)] Loss: 0.552154\n",
      "Train Epoch: 3 [4800/5087 (94%)] Loss: 0.552154\n",
      "Train Epoch: 3 [4800/5087 (94%)] Loss: 0.552154\n"
     ]
    },
    {
     "name": "stderr",
     "output_type": "stream",
     "text": [
      "INFO:__main__:Train Epoch: 3 [4800/5087 (94%)] Loss: 0.552154\n"
     ]
    },
    {
     "name": "stdout",
     "output_type": "stream",
     "text": [
      "Average training loss: 0.563048\n",
      "\n",
      "Average training loss: 0.563048\n",
      "\n",
      "Average training loss: 0.563048\n",
      "\n"
     ]
    },
    {
     "name": "stderr",
     "output_type": "stream",
     "text": [
      "INFO:__main__:Average training loss: 0.563048\n",
      "\n"
     ]
    },
    {
     "name": "stdout",
     "output_type": "stream",
     "text": [
      "Test set: Accuracy: 0.984211\n",
      "\n",
      "Test set: Accuracy: 0.984211\n",
      "\n",
      "Test set: Accuracy: 0.984211\n",
      "\n"
     ]
    },
    {
     "name": "stderr",
     "output_type": "stream",
     "text": [
      "INFO:__main__:Test set: Accuracy: 0.984211\n",
      "\n"
     ]
    },
    {
     "name": "stdout",
     "output_type": "stream",
     "text": [
      "Train Epoch: 4 [0/5087 (0%)] Loss: 0.480954\n",
      "Train Epoch: 4 [0/5087 (0%)] Loss: 0.480954\n",
      "Train Epoch: 4 [0/5087 (0%)] Loss: 0.480954\n"
     ]
    },
    {
     "name": "stderr",
     "output_type": "stream",
     "text": [
      "INFO:__main__:Train Epoch: 4 [0/5087 (0%)] Loss: 0.480954\n"
     ]
    },
    {
     "name": "stdout",
     "output_type": "stream",
     "text": [
      "Train Epoch: 4 [1200/5087 (24%)] Loss: 0.501575\n",
      "Train Epoch: 4 [1200/5087 (24%)] Loss: 0.501575\n",
      "Train Epoch: 4 [1200/5087 (24%)] Loss: 0.501575\n"
     ]
    },
    {
     "name": "stderr",
     "output_type": "stream",
     "text": [
      "INFO:__main__:Train Epoch: 4 [1200/5087 (24%)] Loss: 0.501575\n"
     ]
    },
    {
     "name": "stdout",
     "output_type": "stream",
     "text": [
      "Train Epoch: 4 [2400/5087 (47%)] Loss: 0.566531\n",
      "Train Epoch: 4 [2400/5087 (47%)] Loss: 0.566531\n",
      "Train Epoch: 4 [2400/5087 (47%)] Loss: 0.566531\n"
     ]
    },
    {
     "name": "stderr",
     "output_type": "stream",
     "text": [
      "INFO:__main__:Train Epoch: 4 [2400/5087 (47%)] Loss: 0.566531\n"
     ]
    },
    {
     "name": "stdout",
     "output_type": "stream",
     "text": [
      "Train Epoch: 4 [3600/5087 (71%)] Loss: 0.465790\n",
      "Train Epoch: 4 [3600/5087 (71%)] Loss: 0.465790\n",
      "Train Epoch: 4 [3600/5087 (71%)] Loss: 0.465790\n"
     ]
    },
    {
     "name": "stderr",
     "output_type": "stream",
     "text": [
      "INFO:__main__:Train Epoch: 4 [3600/5087 (71%)] Loss: 0.465790\n"
     ]
    },
    {
     "name": "stdout",
     "output_type": "stream",
     "text": [
      "Train Epoch: 4 [4800/5087 (94%)] Loss: 0.479586\n",
      "Train Epoch: 4 [4800/5087 (94%)] Loss: 0.479586\n",
      "Train Epoch: 4 [4800/5087 (94%)] Loss: 0.479586\n"
     ]
    },
    {
     "name": "stderr",
     "output_type": "stream",
     "text": [
      "INFO:__main__:Train Epoch: 4 [4800/5087 (94%)] Loss: 0.479586\n"
     ]
    },
    {
     "name": "stdout",
     "output_type": "stream",
     "text": [
      "Average training loss: 0.544898\n",
      "\n",
      "Average training loss: 0.544898\n",
      "\n",
      "Average training loss: 0.544898\n",
      "\n"
     ]
    },
    {
     "name": "stderr",
     "output_type": "stream",
     "text": [
      "INFO:__main__:Average training loss: 0.544898\n",
      "\n"
     ]
    },
    {
     "name": "stdout",
     "output_type": "stream",
     "text": [
      "Test set: Accuracy: 0.984211\n",
      "\n",
      "Test set: Accuracy: 0.984211\n",
      "\n",
      "Test set: Accuracy: 0.984211\n",
      "\n"
     ]
    },
    {
     "name": "stderr",
     "output_type": "stream",
     "text": [
      "INFO:__main__:Test set: Accuracy: 0.984211\n",
      "\n"
     ]
    },
    {
     "name": "stdout",
     "output_type": "stream",
     "text": [
      "Train Epoch: 5 [0/5087 (0%)] Loss: 0.495868\n",
      "Train Epoch: 5 [0/5087 (0%)] Loss: 0.495868\n",
      "Train Epoch: 5 [0/5087 (0%)] Loss: 0.495868\n"
     ]
    },
    {
     "name": "stderr",
     "output_type": "stream",
     "text": [
      "INFO:__main__:Train Epoch: 5 [0/5087 (0%)] Loss: 0.495868\n"
     ]
    },
    {
     "name": "stdout",
     "output_type": "stream",
     "text": [
      "Train Epoch: 5 [1200/5087 (24%)] Loss: 0.447203\n",
      "Train Epoch: 5 [1200/5087 (24%)] Loss: 0.447203\n",
      "Train Epoch: 5 [1200/5087 (24%)] Loss: 0.447203\n"
     ]
    },
    {
     "name": "stderr",
     "output_type": "stream",
     "text": [
      "INFO:__main__:Train Epoch: 5 [1200/5087 (24%)] Loss: 0.447203\n"
     ]
    },
    {
     "name": "stdout",
     "output_type": "stream",
     "text": [
      "Train Epoch: 5 [2400/5087 (47%)] Loss: 0.575271\n",
      "Train Epoch: 5 [2400/5087 (47%)] Loss: 0.575271\n",
      "Train Epoch: 5 [2400/5087 (47%)] Loss: 0.575271\n"
     ]
    },
    {
     "name": "stderr",
     "output_type": "stream",
     "text": [
      "INFO:__main__:Train Epoch: 5 [2400/5087 (47%)] Loss: 0.575271\n"
     ]
    },
    {
     "name": "stdout",
     "output_type": "stream",
     "text": [
      "Train Epoch: 5 [3600/5087 (71%)] Loss: 0.531537\n",
      "Train Epoch: 5 [3600/5087 (71%)] Loss: 0.531537\n",
      "Train Epoch: 5 [3600/5087 (71%)] Loss: 0.531537\n"
     ]
    },
    {
     "name": "stderr",
     "output_type": "stream",
     "text": [
      "INFO:__main__:Train Epoch: 5 [3600/5087 (71%)] Loss: 0.531537\n"
     ]
    },
    {
     "name": "stdout",
     "output_type": "stream",
     "text": [
      "Train Epoch: 5 [4800/5087 (94%)] Loss: 0.475389\n",
      "Train Epoch: 5 [4800/5087 (94%)] Loss: 0.475389\n",
      "Train Epoch: 5 [4800/5087 (94%)] Loss: 0.475389\n"
     ]
    },
    {
     "name": "stderr",
     "output_type": "stream",
     "text": [
      "INFO:__main__:Train Epoch: 5 [4800/5087 (94%)] Loss: 0.475389\n"
     ]
    },
    {
     "name": "stdout",
     "output_type": "stream",
     "text": [
      "Average training loss: 0.542013\n",
      "\n",
      "Average training loss: 0.542013\n",
      "\n",
      "Average training loss: 0.542013\n",
      "\n"
     ]
    },
    {
     "name": "stderr",
     "output_type": "stream",
     "text": [
      "INFO:__main__:Average training loss: 0.542013\n",
      "\n"
     ]
    },
    {
     "name": "stdout",
     "output_type": "stream",
     "text": [
      "Test set: Accuracy: 0.987719\n",
      "\n",
      "Test set: Accuracy: 0.987719\n",
      "\n",
      "Test set: Accuracy: 0.987719\n",
      "\n"
     ]
    },
    {
     "name": "stderr",
     "output_type": "stream",
     "text": [
      "INFO:__main__:Test set: Accuracy: 0.987719\n",
      "\n"
     ]
    },
    {
     "name": "stdout",
     "output_type": "stream",
     "text": [
      "Train Epoch: 6 [0/5087 (0%)] Loss: 0.516601\n",
      "Train Epoch: 6 [0/5087 (0%)] Loss: 0.516601\n",
      "Train Epoch: 6 [0/5087 (0%)] Loss: 0.516601\n"
     ]
    },
    {
     "name": "stderr",
     "output_type": "stream",
     "text": [
      "INFO:__main__:Train Epoch: 6 [0/5087 (0%)] Loss: 0.516601\n"
     ]
    },
    {
     "name": "stdout",
     "output_type": "stream",
     "text": [
      "Train Epoch: 6 [1200/5087 (24%)] Loss: 0.524961\n",
      "Train Epoch: 6 [1200/5087 (24%)] Loss: 0.524961\n",
      "Train Epoch: 6 [1200/5087 (24%)] Loss: 0.524961\n"
     ]
    },
    {
     "name": "stderr",
     "output_type": "stream",
     "text": [
      "INFO:__main__:Train Epoch: 6 [1200/5087 (24%)] Loss: 0.524961\n"
     ]
    },
    {
     "name": "stdout",
     "output_type": "stream",
     "text": [
      "Train Epoch: 6 [2400/5087 (47%)] Loss: 0.583571\n",
      "Train Epoch: 6 [2400/5087 (47%)] Loss: 0.583571\n",
      "Train Epoch: 6 [2400/5087 (47%)] Loss: 0.583571\n"
     ]
    },
    {
     "name": "stderr",
     "output_type": "stream",
     "text": [
      "INFO:__main__:Train Epoch: 6 [2400/5087 (47%)] Loss: 0.583571\n"
     ]
    },
    {
     "name": "stdout",
     "output_type": "stream",
     "text": [
      "Train Epoch: 6 [3600/5087 (71%)] Loss: 0.546498\n",
      "Train Epoch: 6 [3600/5087 (71%)] Loss: 0.546498\n",
      "Train Epoch: 6 [3600/5087 (71%)] Loss: 0.546498\n"
     ]
    },
    {
     "name": "stderr",
     "output_type": "stream",
     "text": [
      "INFO:__main__:Train Epoch: 6 [3600/5087 (71%)] Loss: 0.546498\n"
     ]
    },
    {
     "name": "stdout",
     "output_type": "stream",
     "text": [
      "Train Epoch: 6 [4800/5087 (94%)] Loss: 0.551557\n",
      "Train Epoch: 6 [4800/5087 (94%)] Loss: 0.551557\n",
      "Train Epoch: 6 [4800/5087 (94%)] Loss: 0.551557\n"
     ]
    },
    {
     "name": "stderr",
     "output_type": "stream",
     "text": [
      "INFO:__main__:Train Epoch: 6 [4800/5087 (94%)] Loss: 0.551557\n"
     ]
    },
    {
     "name": "stdout",
     "output_type": "stream",
     "text": [
      "Average training loss: 0.531806\n",
      "\n",
      "Average training loss: 0.531806\n",
      "\n",
      "Average training loss: 0.531806\n",
      "\n"
     ]
    },
    {
     "name": "stderr",
     "output_type": "stream",
     "text": [
      "INFO:__main__:Average training loss: 0.531806\n",
      "\n"
     ]
    },
    {
     "name": "stdout",
     "output_type": "stream",
     "text": [
      "Test set: Accuracy: 0.977193\n",
      "\n",
      "Test set: Accuracy: 0.977193\n",
      "\n",
      "Test set: Accuracy: 0.977193\n",
      "\n"
     ]
    },
    {
     "name": "stderr",
     "output_type": "stream",
     "text": [
      "INFO:__main__:Test set: Accuracy: 0.977193\n",
      "\n"
     ]
    },
    {
     "name": "stdout",
     "output_type": "stream",
     "text": [
      "Train Epoch: 7 [0/5087 (0%)] Loss: 0.478604\n",
      "Train Epoch: 7 [0/5087 (0%)] Loss: 0.478604\n",
      "Train Epoch: 7 [0/5087 (0%)] Loss: 0.478604\n"
     ]
    },
    {
     "name": "stderr",
     "output_type": "stream",
     "text": [
      "INFO:__main__:Train Epoch: 7 [0/5087 (0%)] Loss: 0.478604\n"
     ]
    },
    {
     "name": "stdout",
     "output_type": "stream",
     "text": [
      "Train Epoch: 7 [1200/5087 (24%)] Loss: 0.564853\n",
      "Train Epoch: 7 [1200/5087 (24%)] Loss: 0.564853\n",
      "Train Epoch: 7 [1200/5087 (24%)] Loss: 0.564853\n"
     ]
    },
    {
     "name": "stderr",
     "output_type": "stream",
     "text": [
      "INFO:__main__:Train Epoch: 7 [1200/5087 (24%)] Loss: 0.564853\n"
     ]
    },
    {
     "name": "stdout",
     "output_type": "stream",
     "text": [
      "Train Epoch: 7 [2400/5087 (47%)] Loss: 0.504312\n",
      "Train Epoch: 7 [2400/5087 (47%)] Loss: 0.504312\n",
      "Train Epoch: 7 [2400/5087 (47%)] Loss: 0.504312\n"
     ]
    },
    {
     "name": "stderr",
     "output_type": "stream",
     "text": [
      "INFO:__main__:Train Epoch: 7 [2400/5087 (47%)] Loss: 0.504312\n"
     ]
    },
    {
     "name": "stdout",
     "output_type": "stream",
     "text": [
      "Train Epoch: 7 [3600/5087 (71%)] Loss: 0.443372\n",
      "Train Epoch: 7 [3600/5087 (71%)] Loss: 0.443372\n",
      "Train Epoch: 7 [3600/5087 (71%)] Loss: 0.443372\n"
     ]
    },
    {
     "name": "stderr",
     "output_type": "stream",
     "text": [
      "INFO:__main__:Train Epoch: 7 [3600/5087 (71%)] Loss: 0.443372\n"
     ]
    },
    {
     "name": "stdout",
     "output_type": "stream",
     "text": [
      "Train Epoch: 7 [4800/5087 (94%)] Loss: 0.410993\n",
      "Train Epoch: 7 [4800/5087 (94%)] Loss: 0.410993\n",
      "Train Epoch: 7 [4800/5087 (94%)] Loss: 0.410993\n"
     ]
    },
    {
     "name": "stderr",
     "output_type": "stream",
     "text": [
      "INFO:__main__:Train Epoch: 7 [4800/5087 (94%)] Loss: 0.410993\n"
     ]
    },
    {
     "name": "stdout",
     "output_type": "stream",
     "text": [
      "Average training loss: 0.530231\n",
      "\n",
      "Average training loss: 0.530231\n",
      "\n",
      "Average training loss: 0.530231\n",
      "\n"
     ]
    },
    {
     "name": "stderr",
     "output_type": "stream",
     "text": [
      "INFO:__main__:Average training loss: 0.530231\n",
      "\n"
     ]
    },
    {
     "name": "stdout",
     "output_type": "stream",
     "text": [
      "Test set: Accuracy: 0.987719\n",
      "\n",
      "Test set: Accuracy: 0.987719\n",
      "\n",
      "Test set: Accuracy: 0.987719\n",
      "\n"
     ]
    },
    {
     "name": "stderr",
     "output_type": "stream",
     "text": [
      "INFO:__main__:Test set: Accuracy: 0.987719\n",
      "\n"
     ]
    },
    {
     "name": "stdout",
     "output_type": "stream",
     "text": [
      "Train Epoch: 8 [0/5087 (0%)] Loss: 0.661765\n",
      "Train Epoch: 8 [0/5087 (0%)] Loss: 0.661765\n",
      "Train Epoch: 8 [0/5087 (0%)] Loss: 0.661765\n"
     ]
    },
    {
     "name": "stderr",
     "output_type": "stream",
     "text": [
      "INFO:__main__:Train Epoch: 8 [0/5087 (0%)] Loss: 0.661765\n"
     ]
    },
    {
     "name": "stdout",
     "output_type": "stream",
     "text": [
      "Train Epoch: 8 [1200/5087 (24%)] Loss: 0.563725\n",
      "Train Epoch: 8 [1200/5087 (24%)] Loss: 0.563725\n",
      "Train Epoch: 8 [1200/5087 (24%)] Loss: 0.563725\n"
     ]
    },
    {
     "name": "stderr",
     "output_type": "stream",
     "text": [
      "INFO:__main__:Train Epoch: 8 [1200/5087 (24%)] Loss: 0.563725\n"
     ]
    },
    {
     "name": "stdout",
     "output_type": "stream",
     "text": [
      "Train Epoch: 8 [2400/5087 (47%)] Loss: 0.539564\n",
      "Train Epoch: 8 [2400/5087 (47%)] Loss: 0.539564\n",
      "Train Epoch: 8 [2400/5087 (47%)] Loss: 0.539564\n"
     ]
    },
    {
     "name": "stderr",
     "output_type": "stream",
     "text": [
      "INFO:__main__:Train Epoch: 8 [2400/5087 (47%)] Loss: 0.539564\n"
     ]
    },
    {
     "name": "stdout",
     "output_type": "stream",
     "text": [
      "Train Epoch: 8 [3600/5087 (71%)] Loss: 0.463353\n",
      "Train Epoch: 8 [3600/5087 (71%)] Loss: 0.463353\n",
      "Train Epoch: 8 [3600/5087 (71%)] Loss: 0.463353\n"
     ]
    },
    {
     "name": "stderr",
     "output_type": "stream",
     "text": [
      "INFO:__main__:Train Epoch: 8 [3600/5087 (71%)] Loss: 0.463353\n"
     ]
    },
    {
     "name": "stdout",
     "output_type": "stream",
     "text": [
      "Train Epoch: 8 [4800/5087 (94%)] Loss: 0.583915\n",
      "Train Epoch: 8 [4800/5087 (94%)] Loss: 0.583915\n",
      "Train Epoch: 8 [4800/5087 (94%)] Loss: 0.583915\n"
     ]
    },
    {
     "name": "stderr",
     "output_type": "stream",
     "text": [
      "INFO:__main__:Train Epoch: 8 [4800/5087 (94%)] Loss: 0.583915\n"
     ]
    },
    {
     "name": "stdout",
     "output_type": "stream",
     "text": [
      "Average training loss: 0.525584\n",
      "\n",
      "Average training loss: 0.525584\n",
      "\n",
      "Average training loss: 0.525584\n",
      "\n"
     ]
    },
    {
     "name": "stderr",
     "output_type": "stream",
     "text": [
      "INFO:__main__:Average training loss: 0.525584\n",
      "\n"
     ]
    },
    {
     "name": "stdout",
     "output_type": "stream",
     "text": [
      "Test set: Accuracy: 0.989474\n",
      "\n",
      "Test set: Accuracy: 0.989474\n",
      "\n",
      "Test set: Accuracy: 0.989474\n",
      "\n"
     ]
    },
    {
     "name": "stderr",
     "output_type": "stream",
     "text": [
      "INFO:__main__:Test set: Accuracy: 0.989474\n",
      "\n"
     ]
    },
    {
     "name": "stdout",
     "output_type": "stream",
     "text": [
      "Train Epoch: 9 [0/5087 (0%)] Loss: 0.510129\n",
      "Train Epoch: 9 [0/5087 (0%)] Loss: 0.510129\n",
      "Train Epoch: 9 [0/5087 (0%)] Loss: 0.510129\n"
     ]
    },
    {
     "name": "stderr",
     "output_type": "stream",
     "text": [
      "INFO:__main__:Train Epoch: 9 [0/5087 (0%)] Loss: 0.510129\n"
     ]
    },
    {
     "name": "stdout",
     "output_type": "stream",
     "text": [
      "Train Epoch: 9 [1200/5087 (24%)] Loss: 0.622728\n",
      "Train Epoch: 9 [1200/5087 (24%)] Loss: 0.622728\n",
      "Train Epoch: 9 [1200/5087 (24%)] Loss: 0.622728\n"
     ]
    },
    {
     "name": "stderr",
     "output_type": "stream",
     "text": [
      "INFO:__main__:Train Epoch: 9 [1200/5087 (24%)] Loss: 0.622728\n"
     ]
    },
    {
     "name": "stdout",
     "output_type": "stream",
     "text": [
      "Train Epoch: 9 [2400/5087 (47%)] Loss: 0.596231\n",
      "Train Epoch: 9 [2400/5087 (47%)] Loss: 0.596231\n",
      "Train Epoch: 9 [2400/5087 (47%)] Loss: 0.596231\n"
     ]
    },
    {
     "name": "stderr",
     "output_type": "stream",
     "text": [
      "INFO:__main__:Train Epoch: 9 [2400/5087 (47%)] Loss: 0.596231\n"
     ]
    },
    {
     "name": "stdout",
     "output_type": "stream",
     "text": [
      "Train Epoch: 9 [3600/5087 (71%)] Loss: 0.493219\n",
      "Train Epoch: 9 [3600/5087 (71%)] Loss: 0.493219\n",
      "Train Epoch: 9 [3600/5087 (71%)] Loss: 0.493219\n"
     ]
    },
    {
     "name": "stderr",
     "output_type": "stream",
     "text": [
      "INFO:__main__:Train Epoch: 9 [3600/5087 (71%)] Loss: 0.493219\n"
     ]
    },
    {
     "name": "stdout",
     "output_type": "stream",
     "text": [
      "Train Epoch: 9 [4800/5087 (94%)] Loss: 0.509365\n",
      "Train Epoch: 9 [4800/5087 (94%)] Loss: 0.509365\n",
      "Train Epoch: 9 [4800/5087 (94%)] Loss: 0.509365\n"
     ]
    },
    {
     "name": "stderr",
     "output_type": "stream",
     "text": [
      "INFO:__main__:Train Epoch: 9 [4800/5087 (94%)] Loss: 0.509365\n"
     ]
    },
    {
     "name": "stdout",
     "output_type": "stream",
     "text": [
      "Average training loss: 0.522802\n",
      "\n",
      "Average training loss: 0.522802\n",
      "\n",
      "Average training loss: 0.522802\n",
      "\n"
     ]
    },
    {
     "name": "stderr",
     "output_type": "stream",
     "text": [
      "INFO:__main__:Average training loss: 0.522802\n",
      "\n"
     ]
    },
    {
     "name": "stdout",
     "output_type": "stream",
     "text": [
      "Test set: Accuracy: 0.985965\n",
      "\n",
      "Test set: Accuracy: 0.985965\n",
      "\n",
      "Test set: Accuracy: 0.985965\n",
      "\n"
     ]
    },
    {
     "name": "stderr",
     "output_type": "stream",
     "text": [
      "INFO:__main__:Test set: Accuracy: 0.985965\n",
      "\n"
     ]
    },
    {
     "name": "stdout",
     "output_type": "stream",
     "text": [
      "Train Epoch: 10 [0/5087 (0%)] Loss: 0.687472\n",
      "Train Epoch: 10 [0/5087 (0%)] Loss: 0.687472\n",
      "Train Epoch: 10 [0/5087 (0%)] Loss: 0.687472\n"
     ]
    },
    {
     "name": "stderr",
     "output_type": "stream",
     "text": [
      "INFO:__main__:Train Epoch: 10 [0/5087 (0%)] Loss: 0.687472\n"
     ]
    },
    {
     "name": "stdout",
     "output_type": "stream",
     "text": [
      "Train Epoch: 10 [1200/5087 (24%)] Loss: 0.575155\n",
      "Train Epoch: 10 [1200/5087 (24%)] Loss: 0.575155\n",
      "Train Epoch: 10 [1200/5087 (24%)] Loss: 0.575155\n"
     ]
    },
    {
     "name": "stderr",
     "output_type": "stream",
     "text": [
      "INFO:__main__:Train Epoch: 10 [1200/5087 (24%)] Loss: 0.575155\n"
     ]
    },
    {
     "name": "stdout",
     "output_type": "stream",
     "text": [
      "Train Epoch: 10 [2400/5087 (47%)] Loss: 0.534307\n",
      "Train Epoch: 10 [2400/5087 (47%)] Loss: 0.534307\n",
      "Train Epoch: 10 [2400/5087 (47%)] Loss: 0.534307\n"
     ]
    },
    {
     "name": "stderr",
     "output_type": "stream",
     "text": [
      "INFO:__main__:Train Epoch: 10 [2400/5087 (47%)] Loss: 0.534307\n"
     ]
    },
    {
     "name": "stdout",
     "output_type": "stream",
     "text": [
      "Train Epoch: 10 [3600/5087 (71%)] Loss: 0.461389\n",
      "Train Epoch: 10 [3600/5087 (71%)] Loss: 0.461389\n",
      "Train Epoch: 10 [3600/5087 (71%)] Loss: 0.461389\n"
     ]
    },
    {
     "name": "stderr",
     "output_type": "stream",
     "text": [
      "INFO:__main__:Train Epoch: 10 [3600/5087 (71%)] Loss: 0.461389\n"
     ]
    },
    {
     "name": "stdout",
     "output_type": "stream",
     "text": [
      "Train Epoch: 10 [4800/5087 (94%)] Loss: 0.791084\n",
      "Train Epoch: 10 [4800/5087 (94%)] Loss: 0.791084\n",
      "Train Epoch: 10 [4800/5087 (94%)] Loss: 0.791084\n"
     ]
    },
    {
     "name": "stderr",
     "output_type": "stream",
     "text": [
      "INFO:__main__:Train Epoch: 10 [4800/5087 (94%)] Loss: 0.791084\n"
     ]
    },
    {
     "name": "stdout",
     "output_type": "stream",
     "text": [
      "Average training loss: 0.525502\n",
      "\n",
      "Average training loss: 0.525502\n",
      "\n",
      "Average training loss: 0.525502\n",
      "\n"
     ]
    },
    {
     "name": "stderr",
     "output_type": "stream",
     "text": [
      "INFO:__main__:Average training loss: 0.525502\n",
      "\n"
     ]
    },
    {
     "name": "stdout",
     "output_type": "stream",
     "text": [
      "Test set: Accuracy: 0.987719\n",
      "\n",
      "Test set: Accuracy: 0.987719\n",
      "\n",
      "Test set: Accuracy: 0.987719\n",
      "\n"
     ]
    },
    {
     "name": "stderr",
     "output_type": "stream",
     "text": [
      "INFO:__main__:Test set: Accuracy: 0.987719\n",
      "\n"
     ]
    },
    {
     "name": "stdout",
     "output_type": "stream",
     "text": [
      "Saving tuned model\n",
      "Saving tuned model\n",
      "Saving tuned model\n"
     ]
    },
    {
     "name": "stderr",
     "output_type": "stream",
     "text": [
      "INFO:__main__:Saving tuned model\n"
     ]
    }
   ],
   "source": [
    "shallow_bin_class = ShallowBinaryClassifier()\n",
    "args = SimpleNamespace(\n",
    "    batch_size=24,\n",
    "    test_batch_size=16,\n",
    "    epochs=10,\n",
    "    lr=2e-5,\n",
    "    seed=1,\n",
    "    model=shallow_bin_class,\n",
    "    log_interval =50,\n",
    "    model_dir = \"model/\", \n",
    "    model_name=\"shallow_binary_classifier_3_24\",\n",
    "    data_dir=\"./data/\", \n",
    "    num_gpus=1, \n",
    "    train_file = \"Train.csv\", \n",
    "    test_file=\"Test.csv\"\n",
    ")\n",
    "\n",
    "shallow_bin_model = train_model(args)"
   ]
  },
  {
   "cell_type": "code",
   "execution_count": 223,
   "metadata": {},
   "outputs": [],
   "source": [
    "device = torch.device('cuda')\n",
    "test_preds = predict(shallow_bin_model, test_loader2, device)"
   ]
  },
  {
   "cell_type": "code",
   "execution_count": 224,
   "metadata": {},
   "outputs": [
    {
     "data": {
      "text/plain": [
       "1"
      ]
     },
     "execution_count": 224,
     "metadata": {},
     "output_type": "execute_result"
    }
   ],
   "source": [
    "test_preds = np.concatenate(test_preds)\n",
    "(test_preds == 1).sum()"
   ]
  },
  {
   "cell_type": "code",
   "execution_count": 225,
   "metadata": {},
   "outputs": [
    {
     "data": {
      "text/plain": [
       "569"
      ]
     },
     "execution_count": 225,
     "metadata": {},
     "output_type": "execute_result"
    }
   ],
   "source": [
    "(test_preds == 0).sum()"
   ]
  },
  {
   "cell_type": "markdown",
   "metadata": {},
   "source": [
    "### 1D Convolutional Neural Network"
   ]
  },
  {
   "cell_type": "code",
   "execution_count": 213,
   "metadata": {},
   "outputs": [
    {
     "name": "stdout",
     "output_type": "stream",
     "text": [
      "Get data loader\n",
      "Get data loader\n",
      "Get data loader\n"
     ]
    },
    {
     "name": "stderr",
     "output_type": "stream",
     "text": [
      "INFO:__main__:Get data loader\n",
      "INFO:numexpr.utils:NumExpr defaulting to 4 threads.\n"
     ]
    },
    {
     "name": "stdout",
     "output_type": "stream",
     "text": [
      "Get data loader\n",
      "Get data loader\n",
      "Get data loader\n"
     ]
    },
    {
     "name": "stderr",
     "output_type": "stream",
     "text": [
      "INFO:__main__:Get data loader\n"
     ]
    },
    {
     "name": "stdout",
     "output_type": "stream",
     "text": [
      "Train Epoch: 1 [0/5087 (0%)] Loss: 0.752130\n",
      "Train Epoch: 1 [0/5087 (0%)] Loss: 0.752130\n",
      "Train Epoch: 1 [0/5087 (0%)] Loss: 0.752130\n"
     ]
    },
    {
     "name": "stderr",
     "output_type": "stream",
     "text": [
      "INFO:__main__:Train Epoch: 1 [0/5087 (0%)] Loss: 0.752130\n"
     ]
    },
    {
     "name": "stdout",
     "output_type": "stream",
     "text": [
      "Train Epoch: 1 [1200/5087 (24%)] Loss: 0.751615\n",
      "Train Epoch: 1 [1200/5087 (24%)] Loss: 0.751615\n",
      "Train Epoch: 1 [1200/5087 (24%)] Loss: 0.751615\n"
     ]
    },
    {
     "name": "stderr",
     "output_type": "stream",
     "text": [
      "INFO:__main__:Train Epoch: 1 [1200/5087 (24%)] Loss: 0.751615\n"
     ]
    },
    {
     "name": "stdout",
     "output_type": "stream",
     "text": [
      "Train Epoch: 1 [2400/5087 (47%)] Loss: 0.672802\n",
      "Train Epoch: 1 [2400/5087 (47%)] Loss: 0.672802\n",
      "Train Epoch: 1 [2400/5087 (47%)] Loss: 0.672802\n"
     ]
    },
    {
     "name": "stderr",
     "output_type": "stream",
     "text": [
      "INFO:__main__:Train Epoch: 1 [2400/5087 (47%)] Loss: 0.672802\n"
     ]
    },
    {
     "name": "stdout",
     "output_type": "stream",
     "text": [
      "Train Epoch: 1 [3600/5087 (71%)] Loss: 0.648598\n",
      "Train Epoch: 1 [3600/5087 (71%)] Loss: 0.648598\n",
      "Train Epoch: 1 [3600/5087 (71%)] Loss: 0.648598\n"
     ]
    },
    {
     "name": "stderr",
     "output_type": "stream",
     "text": [
      "INFO:__main__:Train Epoch: 1 [3600/5087 (71%)] Loss: 0.648598\n"
     ]
    },
    {
     "name": "stdout",
     "output_type": "stream",
     "text": [
      "Train Epoch: 1 [4800/5087 (94%)] Loss: 0.689505\n",
      "Train Epoch: 1 [4800/5087 (94%)] Loss: 0.689505\n",
      "Train Epoch: 1 [4800/5087 (94%)] Loss: 0.689505\n"
     ]
    },
    {
     "name": "stderr",
     "output_type": "stream",
     "text": [
      "INFO:__main__:Train Epoch: 1 [4800/5087 (94%)] Loss: 0.689505\n"
     ]
    },
    {
     "name": "stdout",
     "output_type": "stream",
     "text": [
      "Average training loss: 0.672010\n",
      "\n",
      "Average training loss: 0.672010\n",
      "\n",
      "Average training loss: 0.672010\n",
      "\n"
     ]
    },
    {
     "name": "stderr",
     "output_type": "stream",
     "text": [
      "INFO:__main__:Average training loss: 0.672010\n",
      "\n"
     ]
    },
    {
     "name": "stdout",
     "output_type": "stream",
     "text": [
      "Test set: Accuracy: 0.980702\n",
      "\n",
      "Test set: Accuracy: 0.980702\n",
      "\n",
      "Test set: Accuracy: 0.980702\n",
      "\n"
     ]
    },
    {
     "name": "stderr",
     "output_type": "stream",
     "text": [
      "INFO:__main__:Test set: Accuracy: 0.980702\n",
      "\n"
     ]
    },
    {
     "name": "stdout",
     "output_type": "stream",
     "text": [
      "Train Epoch: 2 [0/5087 (0%)] Loss: 0.647663\n",
      "Train Epoch: 2 [0/5087 (0%)] Loss: 0.647663\n",
      "Train Epoch: 2 [0/5087 (0%)] Loss: 0.647663\n"
     ]
    },
    {
     "name": "stderr",
     "output_type": "stream",
     "text": [
      "INFO:__main__:Train Epoch: 2 [0/5087 (0%)] Loss: 0.647663\n"
     ]
    },
    {
     "name": "stdout",
     "output_type": "stream",
     "text": [
      "Train Epoch: 2 [1200/5087 (24%)] Loss: 0.616635\n",
      "Train Epoch: 2 [1200/5087 (24%)] Loss: 0.616635\n",
      "Train Epoch: 2 [1200/5087 (24%)] Loss: 0.616635\n"
     ]
    },
    {
     "name": "stderr",
     "output_type": "stream",
     "text": [
      "INFO:__main__:Train Epoch: 2 [1200/5087 (24%)] Loss: 0.616635\n"
     ]
    },
    {
     "name": "stdout",
     "output_type": "stream",
     "text": [
      "Train Epoch: 2 [2400/5087 (47%)] Loss: 0.629413\n",
      "Train Epoch: 2 [2400/5087 (47%)] Loss: 0.629413\n",
      "Train Epoch: 2 [2400/5087 (47%)] Loss: 0.629413\n"
     ]
    },
    {
     "name": "stderr",
     "output_type": "stream",
     "text": [
      "INFO:__main__:Train Epoch: 2 [2400/5087 (47%)] Loss: 0.629413\n"
     ]
    },
    {
     "name": "stdout",
     "output_type": "stream",
     "text": [
      "Train Epoch: 2 [3600/5087 (71%)] Loss: 0.563531\n",
      "Train Epoch: 2 [3600/5087 (71%)] Loss: 0.563531\n",
      "Train Epoch: 2 [3600/5087 (71%)] Loss: 0.563531\n"
     ]
    },
    {
     "name": "stderr",
     "output_type": "stream",
     "text": [
      "INFO:__main__:Train Epoch: 2 [3600/5087 (71%)] Loss: 0.563531\n"
     ]
    },
    {
     "name": "stdout",
     "output_type": "stream",
     "text": [
      "Train Epoch: 2 [4800/5087 (94%)] Loss: 0.543351\n",
      "Train Epoch: 2 [4800/5087 (94%)] Loss: 0.543351\n",
      "Train Epoch: 2 [4800/5087 (94%)] Loss: 0.543351\n"
     ]
    },
    {
     "name": "stderr",
     "output_type": "stream",
     "text": [
      "INFO:__main__:Train Epoch: 2 [4800/5087 (94%)] Loss: 0.543351\n"
     ]
    },
    {
     "name": "stdout",
     "output_type": "stream",
     "text": [
      "Average training loss: 0.620847\n",
      "\n",
      "Average training loss: 0.620847\n",
      "\n",
      "Average training loss: 0.620847\n",
      "\n"
     ]
    },
    {
     "name": "stderr",
     "output_type": "stream",
     "text": [
      "INFO:__main__:Average training loss: 0.620847\n",
      "\n"
     ]
    },
    {
     "name": "stdout",
     "output_type": "stream",
     "text": [
      "Test set: Accuracy: 0.814035\n",
      "\n",
      "Test set: Accuracy: 0.814035\n",
      "\n",
      "Test set: Accuracy: 0.814035\n",
      "\n"
     ]
    },
    {
     "name": "stderr",
     "output_type": "stream",
     "text": [
      "INFO:__main__:Test set: Accuracy: 0.814035\n",
      "\n"
     ]
    },
    {
     "name": "stdout",
     "output_type": "stream",
     "text": [
      "Train Epoch: 3 [0/5087 (0%)] Loss: 0.572748\n",
      "Train Epoch: 3 [0/5087 (0%)] Loss: 0.572748\n",
      "Train Epoch: 3 [0/5087 (0%)] Loss: 0.572748\n"
     ]
    },
    {
     "name": "stderr",
     "output_type": "stream",
     "text": [
      "INFO:__main__:Train Epoch: 3 [0/5087 (0%)] Loss: 0.572748\n"
     ]
    },
    {
     "name": "stdout",
     "output_type": "stream",
     "text": [
      "Train Epoch: 3 [1200/5087 (24%)] Loss: 0.683948\n",
      "Train Epoch: 3 [1200/5087 (24%)] Loss: 0.683948\n",
      "Train Epoch: 3 [1200/5087 (24%)] Loss: 0.683948\n"
     ]
    },
    {
     "name": "stderr",
     "output_type": "stream",
     "text": [
      "INFO:__main__:Train Epoch: 3 [1200/5087 (24%)] Loss: 0.683948\n"
     ]
    },
    {
     "name": "stdout",
     "output_type": "stream",
     "text": [
      "Train Epoch: 3 [2400/5087 (47%)] Loss: 0.650417\n",
      "Train Epoch: 3 [2400/5087 (47%)] Loss: 0.650417\n",
      "Train Epoch: 3 [2400/5087 (47%)] Loss: 0.650417\n"
     ]
    },
    {
     "name": "stderr",
     "output_type": "stream",
     "text": [
      "INFO:__main__:Train Epoch: 3 [2400/5087 (47%)] Loss: 0.650417\n"
     ]
    },
    {
     "name": "stdout",
     "output_type": "stream",
     "text": [
      "Train Epoch: 3 [3600/5087 (71%)] Loss: 0.637039\n",
      "Train Epoch: 3 [3600/5087 (71%)] Loss: 0.637039\n",
      "Train Epoch: 3 [3600/5087 (71%)] Loss: 0.637039\n"
     ]
    },
    {
     "name": "stderr",
     "output_type": "stream",
     "text": [
      "INFO:__main__:Train Epoch: 3 [3600/5087 (71%)] Loss: 0.637039\n"
     ]
    },
    {
     "name": "stdout",
     "output_type": "stream",
     "text": [
      "Train Epoch: 3 [4800/5087 (94%)] Loss: 0.673912\n",
      "Train Epoch: 3 [4800/5087 (94%)] Loss: 0.673912\n",
      "Train Epoch: 3 [4800/5087 (94%)] Loss: 0.673912\n"
     ]
    },
    {
     "name": "stderr",
     "output_type": "stream",
     "text": [
      "INFO:__main__:Train Epoch: 3 [4800/5087 (94%)] Loss: 0.673912\n"
     ]
    },
    {
     "name": "stdout",
     "output_type": "stream",
     "text": [
      "Average training loss: 0.608816\n",
      "\n",
      "Average training loss: 0.608816\n",
      "\n",
      "Average training loss: 0.608816\n",
      "\n"
     ]
    },
    {
     "name": "stderr",
     "output_type": "stream",
     "text": [
      "INFO:__main__:Average training loss: 0.608816\n",
      "\n"
     ]
    },
    {
     "name": "stdout",
     "output_type": "stream",
     "text": [
      "Test set: Accuracy: 0.992982\n",
      "\n",
      "Test set: Accuracy: 0.992982\n",
      "\n",
      "Test set: Accuracy: 0.992982\n",
      "\n"
     ]
    },
    {
     "name": "stderr",
     "output_type": "stream",
     "text": [
      "INFO:__main__:Test set: Accuracy: 0.992982\n",
      "\n"
     ]
    },
    {
     "name": "stdout",
     "output_type": "stream",
     "text": [
      "Saving tuned model\n",
      "Saving tuned model\n",
      "Saving tuned model\n"
     ]
    },
    {
     "name": "stderr",
     "output_type": "stream",
     "text": [
      "INFO:__main__:Saving tuned model\n"
     ]
    }
   ],
   "source": [
    "cnn = CNN()\n",
    "args = SimpleNamespace(\n",
    "    batch_size=24,\n",
    "    test_batch_size=16,\n",
    "    epochs=3,\n",
    "    lr=2e-5,\n",
    "    seed=1,\n",
    "    model=cnn,\n",
    "    log_interval =50,\n",
    "    model_dir = \"model/\", \n",
    "    model_name=\"cnn_3epochs_24batch\",\n",
    "    data_dir=\"./data/\", \n",
    "    num_gpus=1, \n",
    "    train_file = \"Train.csv\", \n",
    "    test_file=\"Test.csv\"\n",
    ")\n",
    "\n",
    "cnn_model = train_model(args)"
   ]
  },
  {
   "cell_type": "code",
   "execution_count": 226,
   "metadata": {},
   "outputs": [],
   "source": [
    "device = torch.device('cuda')\n",
    "test_preds = predict(cnn_model, test_loader2, device)"
   ]
  },
  {
   "cell_type": "code",
   "execution_count": 227,
   "metadata": {},
   "outputs": [
    {
     "data": {
      "text/plain": [
       "59"
      ]
     },
     "execution_count": 227,
     "metadata": {},
     "output_type": "execute_result"
    }
   ],
   "source": [
    "test_preds = np.concatenate(test_preds)\n",
    "(test_preds == 1).sum()"
   ]
  },
  {
   "cell_type": "code",
   "execution_count": 228,
   "metadata": {},
   "outputs": [
    {
     "data": {
      "text/plain": [
       "511"
      ]
     },
     "execution_count": 228,
     "metadata": {},
     "output_type": "execute_result"
    }
   ],
   "source": [
    "(test_preds == 0).sum()"
   ]
  }
 ],
 "metadata": {
  "instance_type": "ml.g4dn.xlarge",
  "kernelspec": {
   "display_name": "Python 3 (PyTorch 1.6 Python 3.6 GPU Optimized)",
   "language": "python",
   "name": "python3__SAGEMAKER_INTERNAL__arn:aws:sagemaker:us-west-2:236514542706:image/pytorch-1.6-gpu-py36-cu110-ubuntu18.04-v3"
  },
  "language_info": {
   "codemirror_mode": {
    "name": "ipython",
    "version": 3
   },
   "file_extension": ".py",
   "mimetype": "text/x-python",
   "name": "python",
   "nbconvert_exporter": "python",
   "pygments_lexer": "ipython3",
   "version": "3.6.13"
  }
 },
 "nbformat": 4,
 "nbformat_minor": 4
}
